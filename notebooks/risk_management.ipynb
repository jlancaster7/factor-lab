{
 "cells": [
  {
   "cell_type": "markdown",
   "id": "e9d8cd09",
   "metadata": {},
   "source": [
    "# Risk Management and Portfolio Optimization\n",
    "\n",
    "This notebook demonstrates advanced portfolio optimization techniques and risk management strategies using the Factor Lab.\n",
    "\n",
    "## What You'll Learn:\n",
    "- Advanced portfolio optimization methods (Black-Litterman, Risk Parity)\n",
    "- Risk budgeting and factor risk models\n",
    "- Dynamic hedging strategies\n",
    "- Stress testing and scenario analysis\n",
    "- Portfolio risk attribution"
   ]
  },
  {
   "cell_type": "code",
   "execution_count": 12,
   "id": "9da9e913",
   "metadata": {},
   "outputs": [
    {
     "name": "stdout",
     "output_type": "stream",
     "text": [
      "✅ Factor Lab imported successfully!\n"
     ]
    }
   ],
   "source": [
    "# Import required libraries\n",
    "import sys\n",
    "from pathlib import Path\n",
    "import pandas as pd\n",
    "import numpy as np\n",
    "import warnings\n",
    "warnings.filterwarnings('ignore')\n",
    "\n",
    "# Add src to path\n",
    "sys.path.insert(0, str(Path.cwd().parent / \"src\"))\n",
    "\n",
    "from factor_lab import (\n",
    "    DataManager, FactorCalculator, PortfolioOptimizer,\n",
    "    Backtester, ChartManager, PerformanceAnalyzer\n",
    ")\n",
    "\n",
    "print(\"✅ Factor Lab imported successfully!\")"
   ]
  },
  {
   "cell_type": "markdown",
   "id": "bf86b3e7",
   "metadata": {},
   "source": [
    "## 1. Initialize Components and Data"
   ]
  },
  {
   "cell_type": "code",
   "execution_count": 2,
   "id": "ec84de25",
   "metadata": {},
   "outputs": [
    {
     "name": "stdout",
     "output_type": "stream",
     "text": [
      "📊 Universe: 36 stocks across 6 sectors\n",
      "   Technology: 6 stocks\n",
      "   Healthcare: 6 stocks\n",
      "   Finance: 6 stocks\n",
      "   Consumer: 6 stocks\n",
      "   Industrial: 6 stocks\n",
      "   Energy: 6 stocks\n"
     ]
    }
   ],
   "source": [
    "start_date=\"2020-01-01\"\n",
    "end_date=\"2024-01-01\"\n",
    "\n",
    "# Initialize components\n",
    "data_manager = DataManager()\n",
    "factor_calc = FactorCalculator()\n",
    "# Note: PortfolioOptimizer will be initialized after returns data is available\n",
    "backtester = Backtester(start_date, end_date)\n",
    "charts = ChartManager()\n",
    "performance = PerformanceAnalyzer()\n",
    "\n",
    "# Define diversified universe across sectors\n",
    "universe = {\n",
    "    'Technology': ['AAPL', 'MSFT', 'GOOGL', 'NVDA', 'META', 'ORCL'],\n",
    "    'Healthcare': ['JNJ', 'PFE', 'UNH', 'ABBV', 'MRK', 'TMO'],\n",
    "    'Finance': ['JPM', 'BAC', 'WFC', 'GS', 'MS', 'C'],\n",
    "    'Consumer': ['PG', 'KO', 'WMT', 'HD', 'MCD', 'NKE'],\n",
    "    'Industrial': ['BA', 'CAT', 'GE', 'MMM', 'HON', 'UPS'],\n",
    "    'Energy': ['XOM', 'CVX', 'COP', 'SLB', 'EOG', 'PSX']\n",
    "}\n",
    "\n",
    "# Flatten universe\n",
    "all_symbols = [symbol for sector_symbols in universe.values() for symbol in sector_symbols]\n",
    "\n",
    "print(f\"📊 Universe: {len(all_symbols)} stocks across {len(universe)} sectors\")\n",
    "for sector, symbols in universe.items():\n",
    "    print(f\"   {sector}: {len(symbols)} stocks\")"
   ]
  },
  {
   "cell_type": "code",
   "execution_count": 3,
   "id": "1ecca3d1",
   "metadata": {},
   "outputs": [
    {
     "name": "stdout",
     "output_type": "stream",
     "text": [
      "📈 Fetching price data...\n",
      "✅ Data loaded: 1006 price observations\n",
      "📅 Date range: 2020-01-02 to 2023-12-29\n",
      "📊 Available symbols: 36\n",
      "\n",
      "🧹 Cleaning returns data...\n",
      "✅ Cleaned data: 36 symbols, 1005 observations\n",
      "\n",
      "📋 Return Statistics:\n",
      "   Mean daily return: 0.0007\n",
      "   Mean daily volatility: 0.0223\n",
      "   Correlation range: 0.123 to 0.910\n",
      "\n",
      "✅ Returns data prepared for optimization (36 symbols)\n",
      "📝 Note: PortfolioOptimizer will be initialized when needed in optimization section\n",
      "✅ Data loaded: 1006 price observations\n",
      "📅 Date range: 2020-01-02 to 2023-12-29\n",
      "📊 Available symbols: 36\n",
      "\n",
      "🧹 Cleaning returns data...\n",
      "✅ Cleaned data: 36 symbols, 1005 observations\n",
      "\n",
      "📋 Return Statistics:\n",
      "   Mean daily return: 0.0007\n",
      "   Mean daily volatility: 0.0223\n",
      "   Correlation range: 0.123 to 0.910\n",
      "\n",
      "✅ Returns data prepared for optimization (36 symbols)\n",
      "📝 Note: PortfolioOptimizer will be initialized when needed in optimization section\n"
     ]
    }
   ],
   "source": [
    "# Fetch price data\n",
    "print(\"📈 Fetching price data...\")\n",
    "prices = data_manager.get_prices(\n",
    "    symbols=all_symbols,\n",
    "    start_date=\"2020-01-01\",\n",
    "    end_date=\"2024-01-01\"\n",
    ")\n",
    "\n",
    "# Calculate returns\n",
    "returns = prices.pct_change().dropna()\n",
    "\n",
    "print(f\"✅ Data loaded: {len(prices)} price observations\")\n",
    "print(f\"📅 Date range: {prices.index[0].strftime('%Y-%m-%d')} to {prices.index[-1].strftime('%Y-%m-%d')}\")\n",
    "print(f\"📊 Available symbols: {len(prices.columns)}\")\n",
    "\n",
    "# Clean returns data for optimization\n",
    "print(\"\\n🧹 Cleaning returns data...\")\n",
    "# Remove symbols with insufficient data or extreme values\n",
    "min_observations = int(0.8 * len(returns))  # Require 80% of observations\n",
    "valid_symbols = []\n",
    "for symbol in returns.columns:\n",
    "    symbol_returns = returns[symbol].dropna()\n",
    "    if (len(symbol_returns) >= min_observations and \n",
    "        symbol_returns.std() > 0 and \n",
    "        np.isfinite(symbol_returns).all()):\n",
    "        valid_symbols.append(symbol)\n",
    "\n",
    "clean_returns = returns[valid_symbols].dropna()\n",
    "print(f\"✅ Cleaned data: {len(valid_symbols)} symbols, {len(clean_returns)} observations\")\n",
    "\n",
    "# Display basic statistics\n",
    "print(\"\\n📋 Return Statistics:\")\n",
    "print(f\"   Mean daily return: {clean_returns.mean().mean():.4f}\")\n",
    "print(f\"   Mean daily volatility: {clean_returns.std().mean():.4f}\")\n",
    "if len(clean_returns.columns) > 1:\n",
    "    corr_values = clean_returns.corr().values[np.triu_indices_from(clean_returns.corr().values, k=1)]\n",
    "    print(f\"   Correlation range: {corr_values.min():.3f} to {corr_values.max():.3f}\")\n",
    "\n",
    "# Store clean returns for later use in optimization\n",
    "returns = clean_returns\n",
    "print(f\"\\n✅ Returns data prepared for optimization ({len(valid_symbols)} symbols)\")\n",
    "print(\"📝 Note: PortfolioOptimizer will be initialized when needed in optimization section\")"
   ]
  },
  {
   "cell_type": "markdown",
   "id": "4f8f9474",
   "metadata": {},
   "source": [
    "## 2. Factor Calculation and Risk Model"
   ]
  },
  {
   "cell_type": "code",
   "execution_count": 4,
   "id": "b3a0e67e",
   "metadata": {},
   "outputs": [
    {
     "name": "stdout",
     "output_type": "stream",
     "text": [
      "🔢 Building factor risk model...\n",
      "✅ Factor exposures calculated: 180 total exposures\n",
      "📊 Factors: Market Beta, Size, Momentum, Volatility, Sector\n",
      "\n",
      "📋 Sample factor exposures (AAPL):\n",
      "            AAPL_market_beta  AAPL_size  AAPL_momentum  AAPL_volatility  \\\n",
      "Date                                                                      \n",
      "2023-12-22          0.859863   0.833333      43.729881         0.158783   \n",
      "2023-12-26          0.860588   0.783333      46.811680         0.159102   \n",
      "2023-12-27          0.870181   0.783333      47.299887         0.156888   \n",
      "2023-12-28          0.886559   0.816667      49.705486         0.155606   \n",
      "2023-12-29          0.889689   0.733333      53.606911         0.155939   \n",
      "\n",
      "            AAPL_sector_technology  \n",
      "Date                                \n",
      "2023-12-22                     1.0  \n",
      "2023-12-26                     1.0  \n",
      "2023-12-27                     1.0  \n",
      "2023-12-28                     1.0  \n",
      "2023-12-29                     1.0  \n",
      "✅ Factor exposures calculated: 180 total exposures\n",
      "📊 Factors: Market Beta, Size, Momentum, Volatility, Sector\n",
      "\n",
      "📋 Sample factor exposures (AAPL):\n",
      "            AAPL_market_beta  AAPL_size  AAPL_momentum  AAPL_volatility  \\\n",
      "Date                                                                      \n",
      "2023-12-22          0.859863   0.833333      43.729881         0.158783   \n",
      "2023-12-26          0.860588   0.783333      46.811680         0.159102   \n",
      "2023-12-27          0.870181   0.783333      47.299887         0.156888   \n",
      "2023-12-28          0.886559   0.816667      49.705486         0.155606   \n",
      "2023-12-29          0.889689   0.733333      53.606911         0.155939   \n",
      "\n",
      "            AAPL_sector_technology  \n",
      "Date                                \n",
      "2023-12-22                     1.0  \n",
      "2023-12-26                     1.0  \n",
      "2023-12-27                     1.0  \n",
      "2023-12-28                     1.0  \n",
      "2023-12-29                     1.0  \n"
     ]
    }
   ],
   "source": [
    "print(\"🔢 Building factor risk model...\")\n",
    "\n",
    "# Calculate factor exposures\n",
    "factor_exposures = pd.DataFrame(index=prices.index)\n",
    "\n",
    "# Market factor (beta to SPY)\n",
    "spy_data = data_manager.get_prices(['SPY'], start_date=\"2020-01-01\", end_date=\"2024-01-01\")\n",
    "if not spy_data.empty:\n",
    "    spy_returns = spy_data['SPY'].pct_change().dropna()\n",
    "    \n",
    "    for symbol in all_symbols:\n",
    "        if symbol in returns.columns:\n",
    "            # Calculate rolling 60-day beta\n",
    "            rolling_beta = returns[symbol].rolling(60).cov(spy_returns) / spy_returns.rolling(60).var()\n",
    "            factor_exposures[f\"{symbol}_market_beta\"] = rolling_beta\n",
    "\n",
    "# Size factor (market cap proxy using price)\n",
    "for symbol in all_symbols:\n",
    "    if symbol in prices.columns:\n",
    "        # Use log price as size proxy (in practice, use actual market cap)\n",
    "        log_price = np.log(prices[symbol])\n",
    "        size_factor = log_price.rolling(60).rank(pct=True)  # Percentile rank\n",
    "        factor_exposures[f\"{symbol}_size\"] = size_factor\n",
    "\n",
    "# Momentum factor\n",
    "prices_data = prices  # Assuming 'prices' is a DataFrame with the necessary price data\n",
    "momentum_factor = factor_calc.momentum(prices_data, lookback=252)\n",
    "for symbol in all_symbols:\n",
    "    if symbol in momentum_factor.columns:\n",
    "        factor_exposures[f\"{symbol}_momentum\"] = momentum_factor[symbol]\n",
    "\n",
    "# Volatility factor\n",
    "for symbol in all_symbols:\n",
    "    if symbol in returns.columns:\n",
    "        volatility = returns[symbol].rolling(60).std() * np.sqrt(252)\n",
    "        factor_exposures[f\"{symbol}_volatility\"] = volatility\n",
    "\n",
    "# Sector exposures (dummy variables)\n",
    "for sector, sector_symbols in universe.items():\n",
    "    for symbol in sector_symbols:\n",
    "        if symbol in prices.columns:\n",
    "            factor_exposures[f\"{symbol}_sector_{sector.lower()}\"] = 1.0\n",
    "\n",
    "factor_exposures = factor_exposures.fillna(0)\n",
    "\n",
    "print(f\"✅ Factor exposures calculated: {factor_exposures.shape[1]} total exposures\")\n",
    "print(f\"📊 Factors: Market Beta, Size, Momentum, Volatility, Sector\")\n",
    "\n",
    "# Display sample exposures\n",
    "sample_cols = [c for c in factor_exposures.columns if 'AAPL' in c][:5]\n",
    "if sample_cols:\n",
    "    print(\"\\n📋 Sample factor exposures (AAPL):\")\n",
    "    print(factor_exposures[sample_cols].tail())"
   ]
  },
  {
   "cell_type": "markdown",
   "id": "19641798",
   "metadata": {},
   "source": [
    "## 3. Portfolio Optimization Methods"
   ]
  },
  {
   "cell_type": "code",
   "execution_count": 5,
   "id": "9d5bbc56",
   "metadata": {},
   "outputs": [
    {
     "name": "stdout",
     "output_type": "stream",
     "text": [
      "💼 Comparing portfolio optimization methods...\n",
      "📅 Optimization date: 2023-10-05\n",
      "📊 Historical data: 347 observations\n",
      "📊 Available symbols: 36\n",
      "✅ Valid symbols for optimization: 36\n",
      "📊 Clean data shape: (347, 36)\n",
      "📊 Using top 15 symbols for optimization\n",
      "\n",
      "🧹 Advanced data cleaning for optimization...\n",
      "✅ Ultra-clean data: (347, 15)\n",
      "📊 Data range: 2022-05-19 00:00:00 to 2023-10-05 00:00:00\n",
      "\n",
      "🔍 Data quality check:\n",
      "   NaN values: 0\n",
      "   Infinite values: 0\n",
      "   Mean return range: -0.0007 to 0.0020\n",
      "   Volatility range: 0.0101 to 0.0241\n",
      "\n",
      "🚀 Proceeding with portfolio optimization using 15 symbols...\n",
      "📊 Calculating robust covariance matrix...\n",
      "📊 Covariance matrix shape: (15, 15)\n",
      "📊 Eigenvalues range: 0.009713 to 0.612701\n",
      "\n",
      "💡 Implementing robust mean-variance optimization...\n",
      "📊 Expected returns range: -0.045 to 0.296\n",
      "✅ Mean-variance optimization completed successfully!\n",
      "📊 Solution status: optimal\n",
      "📊 Weight range: 0.010 to 0.250\n",
      "\n",
      "🔧 Calculating risk parity weights...\n",
      "✅ Risk parity optimization completed\n",
      "🔧 Calculating minimum variance weights...\n",
      "✅ Minimum variance optimization completed\n",
      "\n",
      "📊 Portfolio Characteristics:\n",
      "======================================================================\n",
      "\n",
      "Equal Weight:\n",
      "   Expected Return: 9.96%\n",
      "   Volatility: 19.21%\n",
      "   Sharpe Ratio: 0.518\n",
      "   Max Weight: 6.67%\n",
      "   Concentration: 0.067\n",
      "   Top 3 holdings: {'AAPL': '6.7%', 'ABBV': '6.7%', 'BA': '6.7%'}\n",
      "\n",
      "Mean Variance:\n",
      "   Expected Return: 17.16%\n",
      "   Volatility: 15.92%\n",
      "   Sharpe Ratio: 1.078\n",
      "   Max Weight: 25.00%\n",
      "   Concentration: 0.190\n",
      "   Top 3 holdings: {'GE': '25.0%', 'ABBV': '25.0%', 'JNJ': '23.4%'}\n",
      "   📏 Difference from Equal Weight: 1.0688\n",
      "   ✅ Successfully differentiated from equal weight\n",
      "\n",
      "Risk Parity:\n",
      "   Expected Return: 7.88%\n",
      "   Volatility: 17.87%\n",
      "   Sharpe Ratio: 0.441\n",
      "   Max Weight: 11.22%\n",
      "   Concentration: 0.071\n",
      "   Top 3 holdings: {'JNJ': '11.2%', 'ABBV': '8.9%', 'HON': '8.5%'}\n",
      "\n",
      "Minimum Variance:\n",
      "   Expected Return: 1.11%\n",
      "   Volatility: 13.88%\n",
      "   Sharpe Ratio: 0.080\n",
      "   Max Weight: 30.00%\n",
      "   Concentration: 0.214\n",
      "   Top 3 holdings: {'JNJ': '30.0%', 'ABBV': '27.0%', 'HON': '14.4%'}\n",
      "\n",
      "🔍 Weight Comparison (Top 5 positions):\n",
      "======================================================================\n",
      "      Equal Weight  Mean Variance  Risk Parity  Minimum Variance\n",
      "AAPL        0.0667         0.0591          NaN               NaN\n",
      "ABBV        0.0667         0.2500       0.0885            0.2700\n",
      "BA          0.0667         0.0643          NaN               NaN\n",
      "BAC         0.0667            NaN          NaN               NaN\n",
      "C           0.0667            NaN          NaN               NaN\n",
      "CVX            NaN            NaN          NaN            0.1339\n",
      "GE             NaN         0.2500          NaN               NaN\n",
      "GS             NaN            NaN       0.0686               NaN\n",
      "HD             NaN            NaN       0.0737            0.1091\n",
      "HON            NaN            NaN       0.0849            0.1439\n",
      "JNJ            NaN         0.2344       0.1122            0.3000\n"
     ]
    }
   ],
   "source": [
    "# Portfolio optimization comparison\n",
    "print(\"💼 Comparing portfolio optimization methods...\")\n",
    "\n",
    "# Use recent data for optimization\n",
    "lookback_period = 252  # 1 year\n",
    "optimization_date = returns.index[-60]  # 60 days before end\n",
    "hist_returns = returns.loc[optimization_date - pd.Timedelta(days=lookback_period*2):optimization_date]\n",
    "\n",
    "print(f\"📅 Optimization date: {optimization_date.strftime('%Y-%m-%d')}\")\n",
    "print(f\"📊 Historical data: {len(hist_returns)} observations\")\n",
    "print(f\"📊 Available symbols: {len(hist_returns.columns)}\")\n",
    "\n",
    "# Filter symbols with sufficient data - be more lenient\n",
    "min_obs_required = max(100, int(lookback_period * 0.5))  # At least 100 obs or 50% of lookback\n",
    "valid_symbols = []\n",
    "for symbol in hist_returns.columns:\n",
    "    symbol_data = hist_returns[symbol].dropna()\n",
    "    if len(symbol_data) >= min_obs_required:\n",
    "        valid_symbols.append(symbol)\n",
    "\n",
    "hist_returns_clean = hist_returns[valid_symbols].dropna()\n",
    "\n",
    "print(f\"✅ Valid symbols for optimization: {len(valid_symbols)}\")\n",
    "print(f\"📊 Clean data shape: {hist_returns_clean.shape}\")\n",
    "\n",
    "if len(valid_symbols) < 5:\n",
    "    print(\"❌ Insufficient symbols for optimization - need at least 5\")\n",
    "    print(\"📊 Let's use a simpler approach with available data...\")\n",
    "    \n",
    "    # Use all available data from clean_returns\n",
    "    hist_returns_clean = clean_returns.tail(200)  # Use last 200 days\n",
    "    valid_symbols = hist_returns_clean.columns.tolist()\n",
    "    print(f\"📊 Using {len(valid_symbols)} symbols with {len(hist_returns_clean)} observations\")\n",
    "\n",
    "# Use a manageable subset to avoid numerical issues\n",
    "if len(valid_symbols) > 15:\n",
    "    # Use top 15 symbols by data completeness\n",
    "    symbol_quality = hist_returns_clean.count().sort_values(ascending=False)\n",
    "    top_symbols = symbol_quality.head(15).index.tolist()\n",
    "    hist_returns_clean = hist_returns_clean[top_symbols]\n",
    "    valid_symbols = top_symbols\n",
    "    print(f\"📊 Using top {len(valid_symbols)} symbols for optimization\")\n",
    "\n",
    "# ROBUST DATA CLEANING FOR OPTIMIZATION\n",
    "print(\"\\n🧹 Advanced data cleaning for optimization...\")\n",
    "\n",
    "# Remove any remaining NaNs and infinities\n",
    "hist_returns_clean = hist_returns_clean.replace([np.inf, -np.inf], np.nan).dropna()\n",
    "\n",
    "# Remove extreme outliers (beyond 5 standard deviations)\n",
    "for col in hist_returns_clean.columns:\n",
    "    col_data = hist_returns_clean[col]\n",
    "    mean_val = col_data.mean()\n",
    "    std_val = col_data.std()\n",
    "    outlier_mask = np.abs(col_data - mean_val) > 5 * std_val\n",
    "    hist_returns_clean.loc[outlier_mask, col] = np.nan\n",
    "\n",
    "# Forward fill small gaps and drop rows with any NaNs\n",
    "hist_returns_clean = hist_returns_clean.fillna(method='ffill', limit=3).dropna()\n",
    "\n",
    "print(f\"✅ Ultra-clean data: {hist_returns_clean.shape}\")\n",
    "print(f\"📊 Data range: {hist_returns_clean.index.min()} to {hist_returns_clean.index.max()}\")\n",
    "\n",
    "# Verify data quality\n",
    "print(\"\\n🔍 Data quality check:\")\n",
    "print(f\"   NaN values: {hist_returns_clean.isna().sum().sum()}\")\n",
    "print(f\"   Infinite values: {np.isinf(hist_returns_clean).sum().sum()}\")\n",
    "print(f\"   Mean return range: {hist_returns_clean.mean().min():.4f} to {hist_returns_clean.mean().max():.4f}\")\n",
    "print(f\"   Volatility range: {hist_returns_clean.std().min():.4f} to {hist_returns_clean.std().max():.4f}\")\n",
    "\n",
    "if len(valid_symbols) >= 5 and len(hist_returns_clean) >= 50:\n",
    "    print(f\"\\n🚀 Proceeding with portfolio optimization using {len(valid_symbols)} symbols...\")\n",
    "    \n",
    "    # 1. Equal Weight Portfolio\n",
    "    equal_weights = pd.Series(1.0/len(valid_symbols), index=valid_symbols)\n",
    "    \n",
    "    # Calculate robust covariance matrix\n",
    "    print(\"📊 Calculating robust covariance matrix...\")\n",
    "    \n",
    "    # Method 1: Simple sample covariance with regularization\n",
    "    sample_cov = hist_returns_clean.cov() * 252  # Annualized\n",
    "    \n",
    "    # Add small regularization to diagonal to ensure positive definiteness\n",
    "    regularization = 1e-6\n",
    "    cov_matrix = sample_cov + np.eye(len(sample_cov)) * regularization\n",
    "    \n",
    "    print(f\"📊 Covariance matrix shape: {cov_matrix.shape}\")\n",
    "    print(f\"📊 Eigenvalues range: {np.linalg.eigvals(cov_matrix).min():.6f} to {np.linalg.eigvals(cov_matrix).max():.6f}\")\n",
    "    \n",
    "    # 2. ROBUST MEAN-VARIANCE OPTIMIZATION\n",
    "    print(\"\\n💡 Implementing robust mean-variance optimization...\")\n",
    "    \n",
    "    try:\n",
    "        import cvxpy as cp\n",
    "        \n",
    "        # Calculate expected returns (shrunk towards grand mean)\n",
    "        raw_returns = hist_returns_clean.mean() * 252  # Annualized\n",
    "        grand_mean = raw_returns.mean()\n",
    "        shrinkage_factor = 0.5  # Shrink 50% towards grand mean\n",
    "        expected_returns = shrinkage_factor * grand_mean + (1 - shrinkage_factor) * raw_returns\n",
    "        \n",
    "        print(f\"📊 Expected returns range: {expected_returns.min():.3f} to {expected_returns.max():.3f}\")\n",
    "        \n",
    "        # Optimization variables\n",
    "        n = len(valid_symbols)\n",
    "        w = cp.Variable(n)\n",
    "        \n",
    "        # Risk aversion parameter (higher = more conservative)\n",
    "        risk_aversion = 5.0\n",
    "        \n",
    "        # Objective: maximize return - risk_aversion * variance\n",
    "        portfolio_return = expected_returns.values @ w\n",
    "        portfolio_variance = cp.quad_form(w, cov_matrix.values)\n",
    "        objective = portfolio_return - risk_aversion * portfolio_variance\n",
    "        \n",
    "        # Constraints\n",
    "        constraints = [\n",
    "            cp.sum(w) == 1,     # Weights sum to 1\n",
    "            w >= 0.01,          # Minimum 1% allocation (avoids zeros)\n",
    "            w <= 0.25           # Maximum 25% allocation\n",
    "        ]\n",
    "        \n",
    "        # Solve optimization problem\n",
    "        problem = cp.Problem(cp.Maximize(objective), constraints)\n",
    "        problem.solve(verbose=False, solver=cp.ECOS)\n",
    "        \n",
    "        if w.value is not None and problem.status == cp.OPTIMAL:\n",
    "            mv_weights = pd.Series(w.value, index=valid_symbols)\n",
    "            mv_weights = mv_weights / mv_weights.sum()  # Ensure exact normalization\n",
    "            print(\"✅ Mean-variance optimization completed successfully!\")\n",
    "            print(f\"📊 Solution status: {problem.status}\")\n",
    "            print(f\"📊 Weight range: {mv_weights.min():.3f} to {mv_weights.max():.3f}\")\n",
    "        else:\n",
    "            print(f\"⚠️  Mean-variance optimization failed - status: {problem.status}\")\n",
    "            mv_weights = equal_weights.copy()\n",
    "    \n",
    "    except ImportError:\n",
    "        print(\"⚠️  cvxpy not available - using analytical mean-variance solution\")\n",
    "        \n",
    "        # Analytical solution for mean-variance (assuming risk aversion = 1)\n",
    "        expected_returns = hist_returns_clean.mean() * 252\n",
    "        \n",
    "        try:\n",
    "            # Inverse covariance matrix\n",
    "            inv_cov = np.linalg.inv(cov_matrix.values)\n",
    "            \n",
    "            # Analytical mean-variance weights\n",
    "            ones = np.ones((len(valid_symbols), 1))\n",
    "            \n",
    "            # Calculate optimal weights\n",
    "            numerator = inv_cov @ expected_returns.values.reshape(-1, 1)\n",
    "            denominator = ones.T @ inv_cov @ ones\n",
    "            \n",
    "            mv_weights_raw = numerator / denominator\n",
    "            mv_weights = pd.Series(mv_weights_raw.flatten(), index=valid_symbols)\n",
    "            mv_weights = mv_weights.clip(lower=0)  # Ensure non-negative\n",
    "            mv_weights = mv_weights / mv_weights.sum()  # Normalize\n",
    "            \n",
    "            print(\"✅ Analytical mean-variance optimization completed!\")\n",
    "        except np.linalg.LinAlgError:\n",
    "            print(\"⚠️  Covariance matrix not invertible - using equal weights\")\n",
    "            mv_weights = equal_weights.copy()\n",
    "    \n",
    "    except Exception as e:\n",
    "        print(f\"⚠️  Mean-variance optimization failed: {e}\")\n",
    "        mv_weights = equal_weights.copy()\n",
    "    \n",
    "    # 3. Risk Parity Portfolio (manual implementation)\n",
    "    try:\n",
    "        print(\"\\n🔧 Calculating risk parity weights...\")\n",
    "        # Simple risk parity: inverse volatility weighting\n",
    "        vol_weights = 1.0 / hist_returns_clean.std()\n",
    "        rp_weights = vol_weights / vol_weights.sum()\n",
    "        print(\"✅ Risk parity optimization completed\")\n",
    "    except Exception as e:\n",
    "        print(f\"⚠️  Risk parity optimization failed: {e}\")\n",
    "        rp_weights = equal_weights.copy()\n",
    "    \n",
    "    # 4. Minimum Variance Portfolio\n",
    "    try:\n",
    "        print(\"🔧 Calculating minimum variance weights...\")\n",
    "        import cvxpy as cp\n",
    "        \n",
    "        n = len(valid_symbols)\n",
    "        w = cp.Variable(n)\n",
    "        \n",
    "        # Objective: minimize portfolio variance\n",
    "        portfolio_variance = cp.quad_form(w, cov_matrix.values)\n",
    "        \n",
    "        # Constraints\n",
    "        constraints = [\n",
    "            cp.sum(w) == 1,  # Weights sum to 1\n",
    "            w >= 0,          # Long-only\n",
    "            w <= 0.3         # Max 30% per position\n",
    "        ]\n",
    "        \n",
    "        # Solve\n",
    "        problem = cp.Problem(cp.Minimize(portfolio_variance), constraints)\n",
    "        problem.solve(verbose=False)\n",
    "        \n",
    "        if w.value is not None:\n",
    "            mv_min_weights = pd.Series(w.value, index=valid_symbols)\n",
    "            print(\"✅ Minimum variance optimization completed\")\n",
    "        else:\n",
    "            mv_min_weights = equal_weights.copy()\n",
    "            print(\"⚠️  Minimum variance optimization failed - using equal weights\")\n",
    "    \n",
    "    except Exception as e:\n",
    "        print(f\"⚠️  Minimum variance optimization failed: {e}\")\n",
    "        mv_min_weights = equal_weights.copy()\n",
    "    \n",
    "    # Store all optimization results\n",
    "    optimization_results = {\n",
    "        'Equal Weight': equal_weights,\n",
    "        'Mean Variance': mv_weights,\n",
    "        'Risk Parity': rp_weights,\n",
    "        'Minimum Variance': mv_min_weights\n",
    "    }\n",
    "    \n",
    "    # Display portfolio characteristics\n",
    "    print(\"\\n📊 Portfolio Characteristics:\")\n",
    "    print(\"=\" * 70)\n",
    "    \n",
    "    for name, weights in optimization_results.items():\n",
    "        if len(weights) > 0 and not weights.isna().all():\n",
    "            # Calculate portfolio metrics\n",
    "            portfolio_return = (weights * hist_returns_clean.mean() * 252).sum()\n",
    "            portfolio_vol = np.sqrt(weights.T @ cov_matrix @ weights)\n",
    "            sharpe_ratio = portfolio_return / portfolio_vol if portfolio_vol > 0 else 0\n",
    "            max_weight = weights.max()\n",
    "            concentration = (weights ** 2).sum()  # Herfindahl index\n",
    "            \n",
    "            print(f\"\\n{name}:\")\n",
    "            print(f\"   Expected Return: {portfolio_return:.2%}\")\n",
    "            print(f\"   Volatility: {portfolio_vol:.2%}\")\n",
    "            print(f\"   Sharpe Ratio: {sharpe_ratio:.3f}\")\n",
    "            print(f\"   Max Weight: {max_weight:.2%}\")\n",
    "            print(f\"   Concentration: {concentration:.3f}\")\n",
    "            \n",
    "            # Show top holdings with percentages\n",
    "            top_holdings = weights.nlargest(3)\n",
    "            top_holdings_dict = {symbol: f\"{weight:.1%}\" for symbol, weight in top_holdings.items()}\n",
    "            print(f\"   Top 3 holdings: {top_holdings_dict}\")\n",
    "            \n",
    "            # Check if this portfolio is different from equal weight\n",
    "            if name == 'Mean Variance':\n",
    "                weight_diff = np.abs(weights - equal_weights).sum()\n",
    "                print(f\"   📏 Difference from Equal Weight: {weight_diff:.4f}\")\n",
    "                if weight_diff < 0.01:\n",
    "                    print(\"   ⚠️  WARNING: Very similar to equal weight - optimization may not be working\")\n",
    "                else:\n",
    "                    print(\"   ✅ Successfully differentiated from equal weight\")\n",
    "    \n",
    "    # VERIFICATION: Show weight comparison\n",
    "    print(\"\\n🔍 Weight Comparison (Top 5 positions):\")\n",
    "    print(\"=\" * 70)\n",
    "    comparison_df = pd.DataFrame({\n",
    "        name: weights.nlargest(5) for name, weights in optimization_results.items()\n",
    "    })\n",
    "    print(comparison_df.round(4))\n",
    "    \n",
    "else:\n",
    "    print(\"❌ Insufficient data for meaningful portfolio optimization\")"
   ]
  },
  {
   "cell_type": "markdown",
   "id": "bbf6f9e1",
   "metadata": {},
   "source": [
    "## 4. Risk Budgeting and Factor Allocation"
   ]
  },
  {
   "cell_type": "code",
   "execution_count": 6,
   "id": "103fe890",
   "metadata": {},
   "outputs": [
    {
     "name": "stdout",
     "output_type": "stream",
     "text": [
      "🎯 Risk budgeting analysis...\n",
      "\n",
      "📊 Risk Contribution Analysis:\n",
      "========================================\n",
      "\n",
      "Equal Weight:\n",
      "   Top risk contributors:\n",
      "     EOG: 9.26% risk (weight: 6.67%)\n",
      "     COP: 8.86% risk (weight: 6.67%)\n",
      "     BA: 8.40% risk (weight: 6.67%)\n",
      "     CAT: 8.30% risk (weight: 6.67%)\n",
      "     C: 7.67% risk (weight: 6.67%)\n",
      "   Sector risk allocation:\n",
      "     Industrial: 29.15% risk (weight: 26.67%)\n",
      "     Energy: 24.91% risk (weight: 20.00%)\n",
      "     Finance: 22.50% risk (weight: 20.00%)\n",
      "     Technology: 13.83% risk (weight: 13.33%)\n",
      "     Consumer: 5.04% risk (weight: 6.67%)\n",
      "     Healthcare: 4.58% risk (weight: 13.33%)\n",
      "\n",
      "Mean Variance:\n",
      "   Top risk contributors:\n",
      "     GE: 35.34% risk (weight: 25.00%)\n",
      "     ABBV: 19.73% risk (weight: 25.00%)\n",
      "     JNJ: 13.55% risk (weight: 23.44%)\n",
      "     BA: 9.27% risk (weight: 6.43%)\n",
      "     AAPL: 6.75% risk (weight: 5.91%)\n",
      "   Sector risk allocation:\n",
      "     Industrial: 48.68% risk (weight: 35.05%)\n",
      "     Healthcare: 33.28% risk (weight: 48.44%)\n",
      "     Technology: 9.43% risk (weight: 8.27%)\n",
      "     Energy: 4.40% risk (weight: 4.24%)\n",
      "     Finance: 3.35% risk (weight: 3.00%)\n",
      "     Consumer: 0.86% risk (weight: 1.00%)\n",
      "\n",
      "Risk Parity:\n",
      "   Top risk contributors:\n",
      "     GS: 7.98% risk (weight: 6.86%)\n",
      "     C: 7.94% risk (weight: 6.43%)\n",
      "     BAC: 7.83% risk (weight: 6.29%)\n",
      "     HON: 7.80% risk (weight: 8.49%)\n",
      "     CAT: 7.57% risk (weight: 5.74%)\n",
      "   Sector risk allocation:\n",
      "     Industrial: 28.82% risk (weight: 25.41%)\n",
      "     Finance: 23.75% risk (weight: 19.58%)\n",
      "     Energy: 20.24% risk (weight: 16.27%)\n",
      "     Technology: 12.57% risk (weight: 11.30%)\n",
      "     Healthcare: 8.35% risk (weight: 20.07%)\n",
      "     Consumer: 6.27% risk (weight: 7.37%)\n",
      "\n",
      "Minimum Variance:\n",
      "   Top risk contributors:\n",
      "     ABBV: 29.11% risk (weight: 27.00%)\n",
      "     JNJ: 24.53% risk (weight: 30.00%)\n",
      "     HON: 15.52% risk (weight: 14.39%)\n",
      "     CVX: 14.44% risk (weight: 13.39%)\n",
      "     HD: 11.76% risk (weight: 10.91%)\n",
      "   Sector risk allocation:\n",
      "     Healthcare: 53.64% risk (weight: 57.00%)\n",
      "     Industrial: 18.51% risk (weight: 17.17%)\n",
      "     Energy: 14.44% risk (weight: 13.39%)\n",
      "     Consumer: 11.76% risk (weight: 10.91%)\n",
      "     Technology: 1.65% risk (weight: 1.53%)\n",
      "\n",
      "✅ Risk budgeting analysis completed\n"
     ]
    }
   ],
   "source": [
    "print(\"🎯 Risk budgeting analysis...\")\n",
    "\n",
    "def calculate_risk_contributions(weights, cov_matrix):\n",
    "    \"\"\"\n",
    "    Calculate marginal and component risk contributions.\n",
    "    \"\"\"\n",
    "    portfolio_vol = np.sqrt(weights.T @ cov_matrix @ weights)\n",
    "    marginal_contrib = (cov_matrix @ weights) / portfolio_vol\n",
    "    contrib = weights * marginal_contrib\n",
    "    return contrib / contrib.sum(), marginal_contrib\n",
    "\n",
    "# Analyze risk contributions for each portfolio\n",
    "risk_analysis = {}\n",
    "\n",
    "for name, weights in optimization_results.items():\n",
    "    if len(weights) > 0 and not weights.isna().all():\n",
    "        # Ensure weights are aligned with covariance matrix\n",
    "        aligned_weights = weights.reindex(cov_matrix.index).fillna(0)\n",
    "        \n",
    "        if aligned_weights.sum() > 0.5:  # Valid portfolio\n",
    "            risk_contrib, marginal_contrib = calculate_risk_contributions(\n",
    "                aligned_weights, cov_matrix\n",
    "            )\n",
    "            \n",
    "            risk_analysis[name] = {\n",
    "                'weights': aligned_weights,\n",
    "                'risk_contrib': risk_contrib,\n",
    "                'marginal_contrib': marginal_contrib\n",
    "            }\n",
    "\n",
    "# Display risk contribution analysis\n",
    "print(\"\\n📊 Risk Contribution Analysis:\")\n",
    "print(\"=\" * 40)\n",
    "\n",
    "for name, analysis in risk_analysis.items():\n",
    "    weights = analysis['weights']\n",
    "    risk_contrib = analysis['risk_contrib']\n",
    "    \n",
    "    print(f\"\\n{name}:\")\n",
    "    \n",
    "    # Top risk contributors\n",
    "    top_risk = risk_contrib.nlargest(5)\n",
    "    print(f\"   Top risk contributors:\")\n",
    "    for symbol, contrib in top_risk.items():\n",
    "        weight = weights[symbol]\n",
    "        print(f\"     {symbol}: {contrib:.2%} risk (weight: {weight:.2%})\")\n",
    "    \n",
    "    # Sector risk breakdown\n",
    "    sector_risk = {}\n",
    "    sector_weights = {}\n",
    "    \n",
    "    for sector, sector_symbols in universe.items():\n",
    "        sector_contrib = 0\n",
    "        sector_weight = 0\n",
    "        \n",
    "        for symbol in sector_symbols:\n",
    "            if symbol in risk_contrib.index:\n",
    "                sector_contrib += risk_contrib[symbol]\n",
    "                sector_weight += weights[symbol]\n",
    "        \n",
    "        if sector_contrib > 0:\n",
    "            sector_risk[sector] = sector_contrib\n",
    "            sector_weights[sector] = sector_weight\n",
    "    \n",
    "    print(f\"   Sector risk allocation:\")\n",
    "    for sector in sorted(sector_risk.keys(), key=lambda x: sector_risk[x], reverse=True):\n",
    "        print(f\"     {sector}: {sector_risk[sector]:.2%} risk (weight: {sector_weights[sector]:.2%})\")\n",
    "\n",
    "print(f\"\\n✅ Risk budgeting analysis completed\")"
   ]
  },
  {
   "cell_type": "markdown",
   "id": "40772dd3",
   "metadata": {},
   "source": [
    "## 5. Dynamic Hedging Strategy"
   ]
  },
  {
   "cell_type": "code",
   "execution_count": 7,
   "id": "87e4e142",
   "metadata": {},
   "outputs": [
    {
     "name": "stdout",
     "output_type": "stream",
     "text": [
      "🛡️  Building dynamic hedging strategy...\n",
      "📊 Attempting to load hedge instruments: ['VIXY', 'TLT', 'GLD', 'UUP', 'SHY', 'VXX']\n",
      "✅ VIXY: 1006 observations loaded✅ VIXY: 1006 observations loaded\n",
      "\n",
      "✅ TLT: 1006 observations loaded\n",
      "✅ TLT: 1006 observations loaded\n",
      "✅ GLD: 1006 observations loaded\n",
      "✅ GLD: 1006 observations loaded\n",
      "✅ UUP: 1006 observations loaded\n",
      "✅ UUP: 1006 observations loaded\n",
      "✅ SHY: 1006 observations loaded\n",
      "✅ SHY: 1006 observations loaded\n",
      "✅ VXX: 1006 observations loaded\n",
      "\n",
      "✅ Hedge instrument data loaded: 1005 observations\n",
      "📊 Available hedge instruments: ['VIXY', 'TLT', 'GLD', 'UUP', 'SHY', 'VXX']\n",
      "📅 Date range: 2020-01-03 00:00:00 to 2023-12-29 00:00:00\n",
      "📊 Sample portfolio created with 15 assets\n",
      "\n",
      "🔧 Calculating hedge ratios...\n",
      "✅ VXX: 1006 observations loaded\n",
      "\n",
      "✅ Hedge instrument data loaded: 1005 observations\n",
      "📊 Available hedge instruments: ['VIXY', 'TLT', 'GLD', 'UUP', 'SHY', 'VXX']\n",
      "📅 Date range: 2020-01-03 00:00:00 to 2023-12-29 00:00:00\n",
      "📊 Sample portfolio created with 15 assets\n",
      "\n",
      "🔧 Calculating hedge ratios...\n",
      "🛡️  Hedge ratios calculated for 6 instruments\n",
      "\n",
      "📋 Average hedge ratios (negative = short position for hedging):\n",
      "   VIXY: 2.457 (LONG)\n",
      "   TLT: 0.151 (LONG)\n",
      "   GLD: -0.048 (SHORT)\n",
      "   UUP: 0.101 (LONG)\n",
      "   SHY: 0.002 (LONG)\n",
      "   VXX: 2.294 (LONG)\n",
      "\n",
      "📈 Hedge ratio statistics:\n",
      "   Data points: 1005\n",
      "   Coverage: 2020-01-03 to 2023-12-29\n",
      "   VIXY: μ=2.457, σ=0.834, range=[0.965, 4.455]\n",
      "   TLT: μ=0.151, σ=0.210, range=[-0.478, 0.520]\n",
      "   GLD: μ=-0.048, σ=0.173, range=[-0.422, 0.327]\n",
      "   UUP: μ=0.101, σ=0.103, range=[-0.096, 0.343]\n",
      "   SHY: μ=0.002, σ=0.027, range=[-0.056, 0.099]\n",
      "   VXX: μ=2.294, σ=0.890, range=[0.916, 4.604]\n",
      "\n",
      "📊 Portfolio performance metrics:\n",
      "   Annualized Return: 17.76%\n",
      "   Annualized Volatility: 23.60%\n",
      "   Sharpe Ratio: 0.75\n",
      "   Maximum Drawdown: -41.49%\n",
      "🛡️  Hedge ratios calculated for 6 instruments\n",
      "\n",
      "📋 Average hedge ratios (negative = short position for hedging):\n",
      "   VIXY: 2.457 (LONG)\n",
      "   TLT: 0.151 (LONG)\n",
      "   GLD: -0.048 (SHORT)\n",
      "   UUP: 0.101 (LONG)\n",
      "   SHY: 0.002 (LONG)\n",
      "   VXX: 2.294 (LONG)\n",
      "\n",
      "📈 Hedge ratio statistics:\n",
      "   Data points: 1005\n",
      "   Coverage: 2020-01-03 to 2023-12-29\n",
      "   VIXY: μ=2.457, σ=0.834, range=[0.965, 4.455]\n",
      "   TLT: μ=0.151, σ=0.210, range=[-0.478, 0.520]\n",
      "   GLD: μ=-0.048, σ=0.173, range=[-0.422, 0.327]\n",
      "   UUP: μ=0.101, σ=0.103, range=[-0.096, 0.343]\n",
      "   SHY: μ=0.002, σ=0.027, range=[-0.056, 0.099]\n",
      "   VXX: μ=2.294, σ=0.890, range=[0.916, 4.604]\n",
      "\n",
      "📊 Portfolio performance metrics:\n",
      "   Annualized Return: 17.76%\n",
      "   Annualized Volatility: 23.60%\n",
      "   Sharpe Ratio: 0.75\n",
      "   Maximum Drawdown: -41.49%\n"
     ]
    }
   ],
   "source": [
    "print(\"🛡️  Building dynamic hedging strategy...\")\n",
    "\n",
    "# Define hedging instruments (tradeable ETFs)\n",
    "hedge_instruments = ['VIXY', 'TLT', 'GLD', 'UUP', 'SHY', 'VXX']  # Vol ETF, Long Bonds, Gold, USD, Short Bonds, Vol ETF\n",
    "\n",
    "print(f\"📊 Attempting to load hedge instruments: {hedge_instruments}\")\n",
    "\n",
    "# Fetch hedge instrument data with robust error handling\n",
    "hedge_data = pd.DataFrame()\n",
    "successful_instruments = []\n",
    "\n",
    "for instrument in hedge_instruments:\n",
    "    try:\n",
    "        instrument_data = data_manager.get_prices(\n",
    "            symbols=[instrument],\n",
    "            start_date=\"2020-01-01\",\n",
    "            end_date=\"2024-01-01\"\n",
    "        )\n",
    "        if not instrument_data.empty and len(instrument_data) > 100:  # Require sufficient data\n",
    "            hedge_data[instrument] = instrument_data[instrument]\n",
    "            successful_instruments.append(instrument)\n",
    "            print(f\"✅ {instrument}: {len(instrument_data)} observations loaded\")\n",
    "        else:\n",
    "            print(f\"⚠️  {instrument}: Insufficient data ({len(instrument_data)} observations)\")\n",
    "    except Exception as e:\n",
    "        print(f\"❌ {instrument}: Failed to load - {e}\")\n",
    "\n",
    "if not hedge_data.empty:\n",
    "    hedge_returns = hedge_data.pct_change().dropna()\n",
    "    print(f\"\\n✅ Hedge instrument data loaded: {len(hedge_returns)} observations\")\n",
    "    print(f\"📊 Available hedge instruments: {hedge_returns.columns.tolist()}\")\n",
    "    print(f\"📅 Date range: {hedge_returns.index.min()} to {hedge_returns.index.max()}\")\n",
    "else:\n",
    "    print(\"⚠️  No hedge instruments could be loaded - proceeding with portfolio-only analysis\")\n",
    "    hedge_returns = pd.DataFrame()\n",
    "\n",
    "# Build dynamic hedging model\n",
    "def calculate_hedge_ratios(portfolio_returns, hedge_returns, lookback=60):\n",
    "    \"\"\"\n",
    "    Calculate optimal hedge ratios using rolling regression.\n",
    "    \"\"\"\n",
    "    hedge_ratios = pd.DataFrame(index=portfolio_returns.index)\n",
    "    \n",
    "    if hedge_returns.empty:\n",
    "        return hedge_ratios\n",
    "    \n",
    "    for date in portfolio_returns.index[lookback:]:\n",
    "        # Get historical data\n",
    "        hist_portfolio = portfolio_returns.loc[date-pd.Timedelta(days=lookback*2):date]\n",
    "        hist_hedge = hedge_returns.loc[date-pd.Timedelta(days=lookback*2):date]\n",
    "        \n",
    "        # Align data\n",
    "        common_dates = hist_portfolio.index.intersection(hist_hedge.index)\n",
    "        if len(common_dates) >= 30:  # Minimum observations\n",
    "            aligned_portfolio = hist_portfolio.loc[common_dates]\n",
    "            aligned_hedge = hist_hedge.loc[common_dates]\n",
    "            \n",
    "            # Calculate hedge ratios using regression\n",
    "            for hedge_asset in hedge_returns.columns:\n",
    "                if hedge_asset in aligned_hedge.columns:\n",
    "                    # Simple correlation-based hedge ratio\n",
    "                    correlation = aligned_portfolio.corr(aligned_hedge[hedge_asset])\n",
    "                    volatility_ratio = aligned_hedge[hedge_asset].std() / aligned_portfolio.std()\n",
    "                    \n",
    "                    if not pd.isna(correlation) and not pd.isna(volatility_ratio):\n",
    "                        hedge_ratio = -correlation * volatility_ratio  # Negative for hedging\n",
    "                        hedge_ratios.loc[date, hedge_asset] = hedge_ratio\n",
    "    \n",
    "    return hedge_ratios\n",
    "\n",
    "# Create a sample portfolio return series for hedging analysis\n",
    "if len(valid_symbols) > 0 and 'Mean Variance' in optimization_results:\n",
    "    mv_weights = optimization_results['Mean Variance']\n",
    "    sample_portfolio_returns = (returns[valid_symbols] * mv_weights).sum(axis=1)\n",
    "    \n",
    "    print(f\"📊 Sample portfolio created with {len(valid_symbols)} assets\")\n",
    "    \n",
    "    # Calculate hedge ratios\n",
    "    if not hedge_returns.empty:\n",
    "        print(f\"\\n🔧 Calculating hedge ratios...\")\n",
    "        hedge_ratios = calculate_hedge_ratios(sample_portfolio_returns, hedge_returns)\n",
    "        \n",
    "        print(f\"🛡️  Hedge ratios calculated for {len(hedge_ratios.columns)} instruments\")\n",
    "        \n",
    "        # Display average hedge ratios\n",
    "        if not hedge_ratios.empty and len(hedge_ratios.columns) > 0:\n",
    "            print(\"\\n📋 Average hedge ratios (negative = short position for hedging):\")\n",
    "            for instrument in hedge_ratios.columns:\n",
    "                avg_ratio = hedge_ratios[instrument].mean()\n",
    "                if not pd.isna(avg_ratio):\n",
    "                    hedge_direction = \"SHORT\" if avg_ratio < 0 else \"LONG\"\n",
    "                    print(f\"   {instrument}: {avg_ratio:.3f} ({hedge_direction})\")\n",
    "            \n",
    "            # Show hedge ratio evolution over time\n",
    "            if len(hedge_ratios) > 50:  # Sufficient data for analysis\n",
    "                print(f\"\\n📈 Hedge ratio statistics:\")\n",
    "                print(f\"   Data points: {len(hedge_ratios)}\")\n",
    "                print(f\"   Coverage: {hedge_ratios.index.min().strftime('%Y-%m-%d')} to {hedge_ratios.index.max().strftime('%Y-%m-%d')}\")\n",
    "                \n",
    "                for instrument in hedge_ratios.columns:\n",
    "                    ratios = hedge_ratios[instrument].dropna()\n",
    "                    if len(ratios) > 10:\n",
    "                        print(f\"   {instrument}: μ={ratios.mean():.3f}, σ={ratios.std():.3f}, range=[{ratios.min():.3f}, {ratios.max():.3f}]\")\n",
    "        else:\n",
    "            print(\"⚠️  No hedge ratios could be calculated - insufficient overlapping data\")\n",
    "    else:\n",
    "        print(\"⚠️  No hedge instruments available for ratio calculation\")\n",
    "    \n",
    "    # Risk-adjusted portfolio performance\n",
    "    portfolio_vol = sample_portfolio_returns.std() * np.sqrt(252)\n",
    "    portfolio_return = sample_portfolio_returns.mean() * 252\n",
    "    portfolio_sharpe = portfolio_return / portfolio_vol if portfolio_vol > 0 else 0\n",
    "    \n",
    "    print(f\"\\n📊 Portfolio performance metrics:\")\n",
    "    print(f\"   Annualized Return: {portfolio_return:.2%}\")\n",
    "    print(f\"   Annualized Volatility: {portfolio_vol:.2%}\")\n",
    "    print(f\"   Sharpe Ratio: {portfolio_sharpe:.2f}\")\n",
    "    \n",
    "    # Calculate maximum drawdown\n",
    "    cumulative_returns = (1 + sample_portfolio_returns).cumprod()\n",
    "    rolling_max = cumulative_returns.expanding().max()\n",
    "    drawdown = (cumulative_returns - rolling_max) / rolling_max\n",
    "    max_drawdown = drawdown.min()\n",
    "    \n",
    "    print(f\"   Maximum Drawdown: {max_drawdown:.2%}\")\n",
    "    \n",
    "else:\n",
    "    print(\"⚠️  Insufficient data for hedging analysis\")"
   ]
  },
  {
   "cell_type": "markdown",
   "id": "6be8cf5e",
   "metadata": {},
   "source": [
    "## 6. Stress Testing and Scenario Analysis"
   ]
  },
  {
   "cell_type": "code",
   "execution_count": 8,
   "id": "7bc5f1ef",
   "metadata": {},
   "outputs": [
    {
     "name": "stdout",
     "output_type": "stream",
     "text": [
      "🔬 Stress testing and scenario analysis...\n",
      "\n",
      "🔬 Stress Test Results:\n",
      "==============================\n",
      "\n",
      "Equal Weight:\n",
      "\n",
      "   Market Crash (-20%):\n",
      "     Portfolio Return: -5020.27%\n",
      "     Worst Single Day: -22.29%\n",
      "     VaR (95%): -21.46%\n",
      "     VaR (99%): -21.90%\n",
      "\n",
      "   Tech Selloff:\n",
      "     Portfolio Return: -988.27%\n",
      "     Worst Single Day: -6.29%\n",
      "     VaR (95%): -5.46%\n",
      "     VaR (99%): -5.90%\n",
      "\n",
      "   Financial Crisis:\n",
      "     Portfolio Return: -1996.27%\n",
      "     Worst Single Day: -10.29%\n",
      "     VaR (95%): -9.46%\n",
      "     VaR (99%): -9.90%\n",
      "\n",
      "   Energy Shock:\n",
      "     Portfolio Return: 2539.73%\n",
      "     Worst Single Day: 7.71%\n",
      "     VaR (95%): 8.54%\n",
      "     VaR (99%): 8.10%\n",
      "\n",
      "   Flight to Quality:\n",
      "     Portfolio Return: -400.27%\n",
      "     Worst Single Day: -3.96%\n",
      "     VaR (95%): -3.13%\n",
      "     VaR (99%): -3.57%\n",
      "\n",
      "Mean Variance:\n",
      "\n",
      "   Market Crash (-20%):\n",
      "     Portfolio Return: -5015.64%\n",
      "     Worst Single Day: -22.33%\n",
      "     VaR (95%): -21.21%\n",
      "     VaR (99%): -21.83%\n",
      "\n",
      "   Tech Selloff:\n",
      "     Portfolio Return: -601.02%\n",
      "     Worst Single Day: -4.81%\n",
      "     VaR (95%): -3.69%\n",
      "     VaR (99%): -4.32%\n",
      "\n",
      "   Financial Crisis:\n",
      "     Portfolio Return: -278.04%\n",
      "     Worst Single Day: -3.53%\n",
      "     VaR (95%): -2.41%\n",
      "     VaR (99%): -3.03%\n",
      "\n",
      "   Energy Shock:\n",
      "     Portfolio Return: 558.39%\n",
      "     Worst Single Day: -0.21%\n",
      "     VaR (95%): 0.91%\n",
      "     VaR (99%): 0.28%\n",
      "\n",
      "   Flight to Quality:\n",
      "     Portfolio Return: -275.73%\n",
      "     Worst Single Day: -3.52%\n",
      "     VaR (95%): -2.40%\n",
      "     VaR (99%): -3.03%\n",
      "\n",
      "Risk Parity:\n",
      "\n",
      "   Market Crash (-20%):\n",
      "     Portfolio Return: -5022.92%\n",
      "     Worst Single Day: -22.18%\n",
      "     VaR (95%): -21.35%\n",
      "     VaR (99%): -21.95%\n",
      "\n",
      "   Tech Selloff:\n",
      "     Portfolio Return: -837.29%\n",
      "     Worst Single Day: -5.57%\n",
      "     VaR (95%): -4.74%\n",
      "     VaR (99%): -5.34%\n",
      "\n",
      "   Financial Crisis:\n",
      "     Portfolio Return: -1956.47%\n",
      "     Worst Single Day: -10.01%\n",
      "     VaR (95%): -9.18%\n",
      "     VaR (99%): -9.78%\n",
      "\n",
      "   Energy Shock:\n",
      "     Portfolio Return: 2066.49%\n",
      "     Worst Single Day: 5.95%\n",
      "     VaR (95%): 6.78%\n",
      "     VaR (99%): 6.18%\n",
      "\n",
      "   Flight to Quality:\n",
      "     Portfolio Return: -317.21%\n",
      "     Worst Single Day: -3.51%\n",
      "     VaR (95%): -2.68%\n",
      "     VaR (99%): -3.28%\n",
      "\n",
      "Minimum Variance:\n",
      "\n",
      "   Market Crash (-20%):\n",
      "     Portfolio Return: -5038.58%\n",
      "     Worst Single Day: -22.80%\n",
      "     VaR (95%): -21.20%\n",
      "     VaR (99%): -22.00%\n",
      "\n",
      "   Tech Selloff:\n",
      "     Portfolio Return: -114.41%\n",
      "     Worst Single Day: -3.26%\n",
      "     VaR (95%): -1.66%\n",
      "     VaR (99%): -2.46%\n",
      "\n",
      "   Financial Crisis:\n",
      "     Portfolio Return: 1.42%\n",
      "     Worst Single Day: -2.80%\n",
      "     VaR (95%): -1.20%\n",
      "     VaR (99%): -2.00%\n",
      "\n",
      "   Energy Shock:\n",
      "     Portfolio Return: 1688.45%\n",
      "     Worst Single Day: 3.90%\n",
      "     VaR (95%): 5.50%\n",
      "     VaR (99%): 4.69%\n",
      "\n",
      "   Flight to Quality:\n",
      "     Portfolio Return: 81.00%\n",
      "     Worst Single Day: -2.48%\n",
      "     VaR (95%): -0.88%\n",
      "     VaR (99%): -1.68%\n",
      "\n",
      "📊 Historical Scenario Analysis:\n",
      "===================================\n",
      "\n",
      "Equal Weight:\n",
      "   COVID Crash (Mar 2020):\n",
      "     Total Return: -43.88%\n",
      "     Annualized Vol: 91.12%\n",
      "     Worst Day: -13.91%\n",
      "   Post-COVID Recovery (Apr-Jun 2020):\n",
      "     Total Return: 23.71%\n",
      "     Annualized Vol: 45.48%\n",
      "     Worst Day: -8.13%\n",
      "   Tech Bubble Peak (2021):\n",
      "     Total Return: 36.02%\n",
      "     Annualized Vol: 17.37%\n",
      "     Worst Day: -3.20%\n",
      "   Rising Rates (2022):\n",
      "     Total Return: 4.11%\n",
      "     Annualized Vol: 23.04%\n",
      "     Worst Day: -4.17%\n",
      "   Banking Crisis (Mar 2023):\n",
      "     Total Return: 1.00%\n",
      "     Annualized Vol: 21.51%\n",
      "     Worst Day: -2.29%\n",
      "\n",
      "Mean Variance:\n",
      "   COVID Crash (Mar 2020):\n",
      "     Total Return: -39.93%\n",
      "     Annualized Vol: 75.94%\n",
      "     Worst Day: -12.44%\n",
      "   Post-COVID Recovery (Apr-Jun 2020):\n",
      "     Total Return: 14.12%\n",
      "     Annualized Vol: 37.02%\n",
      "     Worst Day: -6.92%\n",
      "   Tech Bubble Peak (2021):\n",
      "     Total Return: 22.82%\n",
      "     Annualized Vol: 15.25%\n",
      "     Worst Day: -2.83%\n",
      "   Rising Rates (2022):\n",
      "     Total Return: 4.96%\n",
      "     Annualized Vol: 19.69%\n",
      "     Worst Day: -4.11%\n",
      "   Banking Crisis (Mar 2023):\n",
      "     Total Return: 5.36%\n",
      "     Annualized Vol: 15.15%\n",
      "     Worst Day: -2.24%\n",
      "\n",
      "Risk Parity:\n",
      "   COVID Crash (Mar 2020):\n",
      "     Total Return: -41.98%\n",
      "     Annualized Vol: 87.42%\n",
      "     Worst Day: -13.38%\n",
      "   Post-COVID Recovery (Apr-Jun 2020):\n",
      "     Total Return: 22.43%\n",
      "     Annualized Vol: 42.28%\n",
      "     Worst Day: -7.76%\n",
      "   Tech Bubble Peak (2021):\n",
      "     Total Return: 33.13%\n",
      "     Annualized Vol: 15.90%\n",
      "     Worst Day: -2.90%\n",
      "   Rising Rates (2022):\n",
      "     Total Return: 3.70%\n",
      "     Annualized Vol: 21.46%\n",
      "     Worst Day: -4.04%\n",
      "   Banking Crisis (Mar 2023):\n",
      "     Total Return: 0.84%\n",
      "     Annualized Vol: 19.97%\n",
      "     Worst Day: -2.18%\n",
      "\n",
      "Minimum Variance:\n",
      "   COVID Crash (Mar 2020):\n",
      "     Total Return: -34.26%\n",
      "     Annualized Vol: 71.14%\n",
      "     Worst Day: -11.43%\n",
      "   Post-COVID Recovery (Apr-Jun 2020):\n",
      "     Total Return: 19.39%\n",
      "     Annualized Vol: 28.78%\n",
      "     Worst Day: -5.77%\n",
      "   Tech Bubble Peak (2021):\n",
      "     Total Return: 26.04%\n",
      "     Annualized Vol: 12.60%\n",
      "     Worst Day: -3.03%\n",
      "   Rising Rates (2022):\n",
      "     Total Return: 13.25%\n",
      "     Annualized Vol: 16.12%\n",
      "     Worst Day: -3.24%\n",
      "   Banking Crisis (Mar 2023):\n",
      "     Total Return: 2.13%\n",
      "     Annualized Vol: 13.87%\n",
      "     Worst Day: -2.02%\n",
      "\n",
      "✅ Stress testing completed\n"
     ]
    }
   ],
   "source": [
    "print(\"🔬 Stress testing and scenario analysis...\")\n",
    "\n",
    "def stress_test_portfolio(weights, returns, scenarios):\n",
    "    \"\"\"\n",
    "    Perform stress testing on portfolio under various scenarios.\n",
    "    \"\"\"\n",
    "    results = {}\n",
    "    \n",
    "    # Align weights with returns\n",
    "    aligned_weights = weights.reindex(returns.columns).fillna(0)\n",
    "    \n",
    "    for scenario_name, scenario_shocks in scenarios.items():\n",
    "        scenario_returns = returns.copy()\n",
    "        \n",
    "        # Apply shocks\n",
    "        for asset, shock in scenario_shocks.items():\n",
    "            if asset in scenario_returns.columns:\n",
    "                scenario_returns[asset] += shock\n",
    "        \n",
    "        # Calculate portfolio impact\n",
    "        portfolio_impact = (scenario_returns * aligned_weights).sum(axis=1)\n",
    "        \n",
    "        results[scenario_name] = {\n",
    "            'portfolio_return': portfolio_impact.sum(),\n",
    "            'worst_day': portfolio_impact.min(),\n",
    "            'volatility': portfolio_impact.std(),\n",
    "            'var_95': portfolio_impact.quantile(0.05),\n",
    "            'var_99': portfolio_impact.quantile(0.01)\n",
    "        }\n",
    "    \n",
    "    return results\n",
    "\n",
    "# Define stress test scenarios\n",
    "stress_scenarios = {\n",
    "    'Market Crash (-20%)': {symbol: -0.20 for symbol in all_symbols},\n",
    "    'Tech Selloff': {symbol: -0.30 for symbol in universe['Technology']},\n",
    "    'Financial Crisis': {symbol: -0.40 for symbol in universe['Finance']},\n",
    "    'Energy Shock': {symbol: 0.50 for symbol in universe['Energy']},  # Oil spike\n",
    "    'Flight to Quality': {\n",
    "        **{symbol: -0.15 for symbol in universe['Technology']},\n",
    "        **{symbol: 0.05 for symbol in universe['Consumer']}\n",
    "    }\n",
    "}\n",
    "\n",
    "# Run stress tests for each portfolio\n",
    "print(\"\\n🔬 Stress Test Results:\")\n",
    "print(\"=\" * 30)\n",
    "\n",
    "for portfolio_name, weights in optimization_results.items():\n",
    "    if len(weights) > 0 and not weights.isna().all():\n",
    "        print(f\"\\n{portfolio_name}:\")\n",
    "        \n",
    "        # Use a subset of recent returns for stress testing\n",
    "        recent_returns = returns.tail(252)  # Last year\n",
    "        stress_results = stress_test_portfolio(weights, recent_returns, stress_scenarios)\n",
    "        \n",
    "        for scenario, metrics in stress_results.items():\n",
    "            print(f\"\\n   {scenario}:\")\n",
    "            print(f\"     Portfolio Return: {metrics['portfolio_return']:.2%}\")\n",
    "            print(f\"     Worst Single Day: {metrics['worst_day']:.2%}\")\n",
    "            print(f\"     VaR (95%): {metrics['var_95']:.2%}\")\n",
    "            print(f\"     VaR (99%): {metrics['var_99']:.2%}\")\n",
    "\n",
    "# Historical scenario analysis (actual market events)\n",
    "print(\"\\n📊 Historical Scenario Analysis:\")\n",
    "print(\"=\" * 35)\n",
    "\n",
    "# Define historical periods of interest\n",
    "historical_periods = {\n",
    "    'COVID Crash (Mar 2020)': ('2020-02-19', '2020-03-23'),\n",
    "    'Post-COVID Recovery (Apr-Jun 2020)': ('2020-04-01', '2020-06-30'),\n",
    "    'Tech Bubble Peak (2021)': ('2021-01-01', '2021-12-31'),\n",
    "    'Rising Rates (2022)': ('2022-01-01', '2022-12-31'),\n",
    "    'Banking Crisis (Mar 2023)': ('2023-03-01', '2023-03-31')\n",
    "}\n",
    "\n",
    "for portfolio_name, weights in optimization_results.items():\n",
    "    if len(weights) > 0 and not weights.isna().all():\n",
    "        print(f\"\\n{portfolio_name}:\")\n",
    "        \n",
    "        aligned_weights = weights.reindex(returns.columns).fillna(0)\n",
    "        \n",
    "        for period_name, (start_date, end_date) in historical_periods.items():\n",
    "            try:\n",
    "                period_returns = returns.loc[start_date:end_date]\n",
    "                if len(period_returns) > 0:\n",
    "                    portfolio_period_returns = (period_returns * aligned_weights).sum(axis=1)\n",
    "                    \n",
    "                    total_return = (1 + portfolio_period_returns).prod() - 1\n",
    "                    volatility = portfolio_period_returns.std() * np.sqrt(252)\n",
    "                    worst_day = portfolio_period_returns.min()\n",
    "                    \n",
    "                    print(f\"   {period_name}:\")\n",
    "                    print(f\"     Total Return: {total_return:.2%}\")\n",
    "                    print(f\"     Annualized Vol: {volatility:.2%}\")\n",
    "                    print(f\"     Worst Day: {worst_day:.2%}\")\n",
    "            \n",
    "            except Exception as e:\n",
    "                continue\n",
    "\n",
    "print(\"\\n✅ Stress testing completed\")"
   ]
  },
  {
   "cell_type": "markdown",
   "id": "1cb75b2d",
   "metadata": {},
   "source": [
    "## 7. Portfolio Risk Attribution"
   ]
  },
  {
   "cell_type": "code",
   "execution_count": 9,
   "id": "203593dd",
   "metadata": {},
   "outputs": [
    {
     "name": "stdout",
     "output_type": "stream",
     "text": [
      "📊 Portfolio risk attribution analysis...\n",
      "\n",
      "🎯 Risk Attribution Results:\n",
      "===================================\n",
      "\n",
      "Equal Weight:\n",
      "   Factor Exposures:\n",
      "     market_beta :  0.953 (z=+0.2, 55th percentile)\n",
      "     size        :  0.829 (z=+0.3, 41th percentile)\n",
      "     momentum    :   21.3% (z=-0.1, 68th percentile)\n",
      "     volatility  :    0.2% (z=-0.0, 46th percentile)\n",
      "   Sector Allocation:\n",
      "     Industrial  : 26.67%\n",
      "     Finance     : 20.00%\n",
      "     Energy      : 20.00%\n",
      "     Technology  : 13.33%\n",
      "     Healthcare  : 13.33%\n",
      "     Consumer    :  6.67%\n",
      "   Risk Concentration:\n",
      "     Herfindahl Index: 0.067\n",
      "     Effective Positions: 15.0\n",
      "     Max Position: 6.67%\n",
      "     Top 5 Concentration: 33.33%\n",
      "\n",
      "Mean Variance:\n",
      "   Factor Exposures:\n",
      "     market_beta :  0.803 (z=-0.1, 44th percentile)\n",
      "     size        :  0.918 (z=+0.6, 52th percentile)\n",
      "     momentum    :   31.2% (z=+0.1, 82th percentile)\n",
      "     volatility  :    0.2% (z=-0.5, 33th percentile)\n",
      "   Sector Allocation:\n",
      "     Healthcare  : 48.44%\n",
      "     Industrial  : 35.05%\n",
      "     Technology  :  8.27%\n",
      "     Energy      :  4.24%\n",
      "     Finance     :  3.00%\n",
      "     Consumer    :  1.00%\n",
      "   Risk Concentration:\n",
      "     Herfindahl Index: 0.190\n",
      "     Effective Positions: 5.3\n",
      "     Max Position: 25.00%\n",
      "     Top 5 Concentration: 85.78%\n",
      "\n",
      "Risk Parity:\n",
      "   Factor Exposures:\n",
      "     market_beta :  0.931 (z=+0.2, 53th percentile)\n",
      "     size        :  0.852 (z=+0.3, 44th percentile)\n",
      "     momentum    :   18.4% (z=-0.1, 63th percentile)\n",
      "     volatility  :    0.2% (z=-0.2, 42th percentile)\n",
      "   Sector Allocation:\n",
      "     Industrial  : 25.41%\n",
      "     Healthcare  : 20.07%\n",
      "     Finance     : 19.58%\n",
      "     Energy      : 16.27%\n",
      "     Technology  : 11.30%\n",
      "     Consumer    :  7.37%\n",
      "   Risk Concentration:\n",
      "     Herfindahl Index: 0.071\n",
      "     Effective Positions: 14.1\n",
      "     Max Position: 11.22%\n",
      "     Top 5 Concentration: 42.80%\n",
      "\n",
      "Minimum Variance:\n",
      "   Factor Exposures:\n",
      "     market_beta :  0.701 (z=-0.4, 36th percentile)\n",
      "     size        :  0.891 (z=+0.5, 49th percentile)\n",
      "     momentum    :    0.9% (z=-0.5, 37th percentile)\n",
      "     volatility  :    0.2% (z=-0.9, 23th percentile)\n",
      "   Sector Allocation:\n",
      "     Healthcare  : 57.00%\n",
      "     Industrial  : 17.17%\n",
      "     Energy      : 13.39%\n",
      "     Consumer    : 10.91%\n",
      "     Technology  :  1.53%\n",
      "   Risk Concentration:\n",
      "     Herfindahl Index: 0.214\n",
      "     Effective Positions: 4.7\n",
      "     Max Position: 30.00%\n",
      "     Top 5 Concentration: 95.69%\n",
      "\n",
      "✅ Risk attribution analysis completed\n"
     ]
    }
   ],
   "source": [
    "print(\"📊 Portfolio risk attribution analysis...\")\n",
    "\n",
    "def decompose_portfolio_risk(weights, factor_exposures, factor_returns):\n",
    "    \"\"\"\n",
    "    Decompose portfolio risk into factor and specific components with proper normalization.\n",
    "    \"\"\"\n",
    "    # Calculate portfolio factor exposures\n",
    "    portfolio_exposures = {}\n",
    "    \n",
    "    factor_types = ['market_beta', 'size', 'momentum', 'volatility']\n",
    "    \n",
    "    for factor_type in factor_types:\n",
    "        factor_values = []\n",
    "        factor_weights = []\n",
    "        \n",
    "        for symbol, weight in weights.items():\n",
    "            if weight > 0.001:  # Active positions only\n",
    "                exposure_col = f\"{symbol}_{factor_type}\"\n",
    "                if exposure_col in factor_exposures.columns:\n",
    "                    latest_exposure = factor_exposures[exposure_col].iloc[-1]\n",
    "                    if not pd.isna(latest_exposure) and not np.isinf(latest_exposure):\n",
    "                        factor_values.append(latest_exposure)\n",
    "                        factor_weights.append(weight)\n",
    "        \n",
    "        if len(factor_values) > 0:\n",
    "            # Calculate weighted average\n",
    "            portfolio_exposures[factor_type] = np.average(factor_values, weights=factor_weights)\n",
    "        else:\n",
    "            portfolio_exposures[factor_type] = 0\n",
    "    \n",
    "    return portfolio_exposures\n",
    "\n",
    "def calculate_factor_statistics(factor_exposures, factor_types):\n",
    "    \"\"\"\n",
    "    Calculate cross-sectional statistics for factor normalization.\n",
    "    \"\"\"\n",
    "    factor_stats = {}\n",
    "    \n",
    "    for factor_type in factor_types:\n",
    "        factor_cols = [col for col in factor_exposures.columns if col.endswith(f'_{factor_type}')]\n",
    "        \n",
    "        if len(factor_cols) > 0:\n",
    "            # Get latest cross-sectional data\n",
    "            latest_values = []\n",
    "            for col in factor_cols:\n",
    "                val = factor_exposures[col].iloc[-1]\n",
    "                if not pd.isna(val) and not np.isinf(val):\n",
    "                    latest_values.append(val)\n",
    "            \n",
    "            if len(latest_values) > 2:\n",
    "                factor_stats[factor_type] = {\n",
    "                    'mean': np.mean(latest_values),\n",
    "                    'std': np.std(latest_values),\n",
    "                    'median': np.median(latest_values),\n",
    "                    'q25': np.percentile(latest_values, 25),\n",
    "                    'q75': np.percentile(latest_values, 75)\n",
    "                }\n",
    "    \n",
    "    return factor_stats\n",
    "\n",
    "# Calculate factor statistics for interpretation\n",
    "factor_stats = calculate_factor_statistics(factor_exposures, ['market_beta', 'size', 'momentum', 'volatility'])\n",
    "\n",
    "# Analyze risk attribution for each portfolio\n",
    "print(\"\\n🎯 Risk Attribution Results:\")\n",
    "print(\"=\" * 35)\n",
    "\n",
    "for portfolio_name, weights in optimization_results.items():\n",
    "    if len(weights) > 0 and not weights.isna().all():\n",
    "        print(f\"\\n{portfolio_name}:\")\n",
    "        \n",
    "        # Portfolio factor exposures\n",
    "        exposures = decompose_portfolio_risk(weights, factor_exposures, returns)\n",
    "        \n",
    "        print(f\"   Factor Exposures:\")\n",
    "        for factor, exposure in exposures.items():\n",
    "            if factor in factor_stats:\n",
    "                stats = factor_stats[factor]\n",
    "                \n",
    "                # Calculate z-score for interpretation\n",
    "                if stats['std'] > 0:\n",
    "                    z_score = (exposure - stats['mean']) / stats['std']\n",
    "                    percentile = ((exposure - stats['median']) / (stats['q75'] - stats['q25'])) * 50 + 50\n",
    "                    percentile = max(0, min(100, percentile))  # Bound between 0-100\n",
    "                    \n",
    "                    if factor == 'momentum':\n",
    "                        print(f\"     {factor:12}: {exposure:6.1f}% (z={z_score:+.1f}, {percentile:.0f}th percentile)\")\n",
    "                    elif factor == 'volatility':\n",
    "                        print(f\"     {factor:12}: {exposure:6.1f}% (z={z_score:+.1f}, {percentile:.0f}th percentile)\")\n",
    "                    else:\n",
    "                        print(f\"     {factor:12}: {exposure:6.3f} (z={z_score:+.1f}, {percentile:.0f}th percentile)\")\n",
    "                else:\n",
    "                    if factor == 'momentum':\n",
    "                        print(f\"     {factor:12}: {exposure:6.1f}%\")\n",
    "                    elif factor == 'volatility':\n",
    "                        print(f\"     {factor:12}: {exposure:6.1f}%\")\n",
    "                    else:\n",
    "                        print(f\"     {factor:12}: {exposure:6.3f}\")\n",
    "            else:\n",
    "                print(f\"     {factor:12}: {exposure:6.3f}\")\n",
    "        \n",
    "        # Sector allocation\n",
    "        sector_allocation = {}\n",
    "        for sector, sector_symbols in universe.items():\n",
    "            sector_weight = 0\n",
    "            for symbol in sector_symbols:\n",
    "                if symbol in weights.index:\n",
    "                    sector_weight += weights[symbol]\n",
    "            sector_allocation[sector] = sector_weight\n",
    "        \n",
    "        print(f\"   Sector Allocation:\")\n",
    "        for sector, allocation in sorted(sector_allocation.items(), key=lambda x: x[1], reverse=True):\n",
    "            if allocation > 0.001:\n",
    "                print(f\"     {sector:12}: {allocation:6.2%}\")\n",
    "        \n",
    "        # Risk concentration metrics\n",
    "        herfindahl_index = (weights ** 2).sum()\n",
    "        effective_positions = 1 / herfindahl_index if herfindahl_index > 0 else 0\n",
    "        \n",
    "        print(f\"   Risk Concentration:\")\n",
    "        print(f\"     Herfindahl Index: {herfindahl_index:.3f}\")\n",
    "        print(f\"     Effective Positions: {effective_positions:.1f}\")\n",
    "        print(f\"     Max Position: {weights.max():.2%}\")\n",
    "        print(f\"     Top 5 Concentration: {weights.nlargest(5).sum():.2%}\")\n",
    "\n",
    "print(\"\\n✅ Risk attribution analysis completed\")"
   ]
  },
  {
   "cell_type": "markdown",
   "id": "960d37d6",
   "metadata": {},
   "source": [
    "## 8. Visualization and Summary"
   ]
  },
  {
   "cell_type": "code",
   "execution_count": 11,
   "id": "436560d9",
   "metadata": {},
   "outputs": [
    {
     "name": "stdout",
     "output_type": "stream",
     "text": [
      "📊 Creating risk management visualizations...\n"
     ]
    },
    {
     "data": {
      "application/vnd.plotly.v1+json": {
       "config": {
        "plotlyServerURL": "https://plot.ly"
       },
       "data": [
        {
         "marker": {
          "color": "blue",
          "size": 12
         },
         "mode": "markers",
         "name": "Equal Weight",
         "type": "scatter",
         "x": [
          0.19205038328281918
         ],
         "y": [
          0.09956615637846242
         ]
        },
        {
         "marker": {
          "color": "red",
          "size": 12
         },
         "mode": "markers",
         "name": "Mean Variance",
         "type": "scatter",
         "x": [
          0.15918187726546001
         ],
         "y": [
          0.17163495012614505
         ]
        },
        {
         "marker": {
          "color": "green",
          "size": 12
         },
         "mode": "markers",
         "name": "Risk Parity",
         "type": "scatter",
         "x": [
          0.17873191260931237
         ],
         "y": [
          0.07882639278753413
         ]
        },
        {
         "marker": {
          "color": "orange",
          "size": 12
         },
         "mode": "markers",
         "name": "Minimum Variance",
         "type": "scatter",
         "x": [
          0.13882302071578673
         ],
         "y": [
          0.011129071644651656
         ]
        }
       ],
       "layout": {
        "height": 600,
        "template": {
         "data": {
          "bar": [
           {
            "error_x": {
             "color": "#2a3f5f"
            },
            "error_y": {
             "color": "#2a3f5f"
            },
            "marker": {
             "line": {
              "color": "white",
              "width": 0.5
             },
             "pattern": {
              "fillmode": "overlay",
              "size": 10,
              "solidity": 0.2
             }
            },
            "type": "bar"
           }
          ],
          "barpolar": [
           {
            "marker": {
             "line": {
              "color": "white",
              "width": 0.5
             },
             "pattern": {
              "fillmode": "overlay",
              "size": 10,
              "solidity": 0.2
             }
            },
            "type": "barpolar"
           }
          ],
          "carpet": [
           {
            "aaxis": {
             "endlinecolor": "#2a3f5f",
             "gridcolor": "#C8D4E3",
             "linecolor": "#C8D4E3",
             "minorgridcolor": "#C8D4E3",
             "startlinecolor": "#2a3f5f"
            },
            "baxis": {
             "endlinecolor": "#2a3f5f",
             "gridcolor": "#C8D4E3",
             "linecolor": "#C8D4E3",
             "minorgridcolor": "#C8D4E3",
             "startlinecolor": "#2a3f5f"
            },
            "type": "carpet"
           }
          ],
          "choropleth": [
           {
            "colorbar": {
             "outlinewidth": 0,
             "ticks": ""
            },
            "type": "choropleth"
           }
          ],
          "contour": [
           {
            "colorbar": {
             "outlinewidth": 0,
             "ticks": ""
            },
            "colorscale": [
             [
              0,
              "#0d0887"
             ],
             [
              0.1111111111111111,
              "#46039f"
             ],
             [
              0.2222222222222222,
              "#7201a8"
             ],
             [
              0.3333333333333333,
              "#9c179e"
             ],
             [
              0.4444444444444444,
              "#bd3786"
             ],
             [
              0.5555555555555556,
              "#d8576b"
             ],
             [
              0.6666666666666666,
              "#ed7953"
             ],
             [
              0.7777777777777778,
              "#fb9f3a"
             ],
             [
              0.8888888888888888,
              "#fdca26"
             ],
             [
              1,
              "#f0f921"
             ]
            ],
            "type": "contour"
           }
          ],
          "contourcarpet": [
           {
            "colorbar": {
             "outlinewidth": 0,
             "ticks": ""
            },
            "type": "contourcarpet"
           }
          ],
          "heatmap": [
           {
            "colorbar": {
             "outlinewidth": 0,
             "ticks": ""
            },
            "colorscale": [
             [
              0,
              "#0d0887"
             ],
             [
              0.1111111111111111,
              "#46039f"
             ],
             [
              0.2222222222222222,
              "#7201a8"
             ],
             [
              0.3333333333333333,
              "#9c179e"
             ],
             [
              0.4444444444444444,
              "#bd3786"
             ],
             [
              0.5555555555555556,
              "#d8576b"
             ],
             [
              0.6666666666666666,
              "#ed7953"
             ],
             [
              0.7777777777777778,
              "#fb9f3a"
             ],
             [
              0.8888888888888888,
              "#fdca26"
             ],
             [
              1,
              "#f0f921"
             ]
            ],
            "type": "heatmap"
           }
          ],
          "heatmapgl": [
           {
            "colorbar": {
             "outlinewidth": 0,
             "ticks": ""
            },
            "colorscale": [
             [
              0,
              "#0d0887"
             ],
             [
              0.1111111111111111,
              "#46039f"
             ],
             [
              0.2222222222222222,
              "#7201a8"
             ],
             [
              0.3333333333333333,
              "#9c179e"
             ],
             [
              0.4444444444444444,
              "#bd3786"
             ],
             [
              0.5555555555555556,
              "#d8576b"
             ],
             [
              0.6666666666666666,
              "#ed7953"
             ],
             [
              0.7777777777777778,
              "#fb9f3a"
             ],
             [
              0.8888888888888888,
              "#fdca26"
             ],
             [
              1,
              "#f0f921"
             ]
            ],
            "type": "heatmapgl"
           }
          ],
          "histogram": [
           {
            "marker": {
             "pattern": {
              "fillmode": "overlay",
              "size": 10,
              "solidity": 0.2
             }
            },
            "type": "histogram"
           }
          ],
          "histogram2d": [
           {
            "colorbar": {
             "outlinewidth": 0,
             "ticks": ""
            },
            "colorscale": [
             [
              0,
              "#0d0887"
             ],
             [
              0.1111111111111111,
              "#46039f"
             ],
             [
              0.2222222222222222,
              "#7201a8"
             ],
             [
              0.3333333333333333,
              "#9c179e"
             ],
             [
              0.4444444444444444,
              "#bd3786"
             ],
             [
              0.5555555555555556,
              "#d8576b"
             ],
             [
              0.6666666666666666,
              "#ed7953"
             ],
             [
              0.7777777777777778,
              "#fb9f3a"
             ],
             [
              0.8888888888888888,
              "#fdca26"
             ],
             [
              1,
              "#f0f921"
             ]
            ],
            "type": "histogram2d"
           }
          ],
          "histogram2dcontour": [
           {
            "colorbar": {
             "outlinewidth": 0,
             "ticks": ""
            },
            "colorscale": [
             [
              0,
              "#0d0887"
             ],
             [
              0.1111111111111111,
              "#46039f"
             ],
             [
              0.2222222222222222,
              "#7201a8"
             ],
             [
              0.3333333333333333,
              "#9c179e"
             ],
             [
              0.4444444444444444,
              "#bd3786"
             ],
             [
              0.5555555555555556,
              "#d8576b"
             ],
             [
              0.6666666666666666,
              "#ed7953"
             ],
             [
              0.7777777777777778,
              "#fb9f3a"
             ],
             [
              0.8888888888888888,
              "#fdca26"
             ],
             [
              1,
              "#f0f921"
             ]
            ],
            "type": "histogram2dcontour"
           }
          ],
          "mesh3d": [
           {
            "colorbar": {
             "outlinewidth": 0,
             "ticks": ""
            },
            "type": "mesh3d"
           }
          ],
          "parcoords": [
           {
            "line": {
             "colorbar": {
              "outlinewidth": 0,
              "ticks": ""
             }
            },
            "type": "parcoords"
           }
          ],
          "pie": [
           {
            "automargin": true,
            "type": "pie"
           }
          ],
          "scatter": [
           {
            "fillpattern": {
             "fillmode": "overlay",
             "size": 10,
             "solidity": 0.2
            },
            "type": "scatter"
           }
          ],
          "scatter3d": [
           {
            "line": {
             "colorbar": {
              "outlinewidth": 0,
              "ticks": ""
             }
            },
            "marker": {
             "colorbar": {
              "outlinewidth": 0,
              "ticks": ""
             }
            },
            "type": "scatter3d"
           }
          ],
          "scattercarpet": [
           {
            "marker": {
             "colorbar": {
              "outlinewidth": 0,
              "ticks": ""
             }
            },
            "type": "scattercarpet"
           }
          ],
          "scattergeo": [
           {
            "marker": {
             "colorbar": {
              "outlinewidth": 0,
              "ticks": ""
             }
            },
            "type": "scattergeo"
           }
          ],
          "scattergl": [
           {
            "marker": {
             "colorbar": {
              "outlinewidth": 0,
              "ticks": ""
             }
            },
            "type": "scattergl"
           }
          ],
          "scattermapbox": [
           {
            "marker": {
             "colorbar": {
              "outlinewidth": 0,
              "ticks": ""
             }
            },
            "type": "scattermapbox"
           }
          ],
          "scatterpolar": [
           {
            "marker": {
             "colorbar": {
              "outlinewidth": 0,
              "ticks": ""
             }
            },
            "type": "scatterpolar"
           }
          ],
          "scatterpolargl": [
           {
            "marker": {
             "colorbar": {
              "outlinewidth": 0,
              "ticks": ""
             }
            },
            "type": "scatterpolargl"
           }
          ],
          "scatterternary": [
           {
            "marker": {
             "colorbar": {
              "outlinewidth": 0,
              "ticks": ""
             }
            },
            "type": "scatterternary"
           }
          ],
          "surface": [
           {
            "colorbar": {
             "outlinewidth": 0,
             "ticks": ""
            },
            "colorscale": [
             [
              0,
              "#0d0887"
             ],
             [
              0.1111111111111111,
              "#46039f"
             ],
             [
              0.2222222222222222,
              "#7201a8"
             ],
             [
              0.3333333333333333,
              "#9c179e"
             ],
             [
              0.4444444444444444,
              "#bd3786"
             ],
             [
              0.5555555555555556,
              "#d8576b"
             ],
             [
              0.6666666666666666,
              "#ed7953"
             ],
             [
              0.7777777777777778,
              "#fb9f3a"
             ],
             [
              0.8888888888888888,
              "#fdca26"
             ],
             [
              1,
              "#f0f921"
             ]
            ],
            "type": "surface"
           }
          ],
          "table": [
           {
            "cells": {
             "fill": {
              "color": "#EBF0F8"
             },
             "line": {
              "color": "white"
             }
            },
            "header": {
             "fill": {
              "color": "#C8D4E3"
             },
             "line": {
              "color": "white"
             }
            },
            "type": "table"
           }
          ]
         },
         "layout": {
          "annotationdefaults": {
           "arrowcolor": "#2a3f5f",
           "arrowhead": 0,
           "arrowwidth": 1
          },
          "autotypenumbers": "strict",
          "coloraxis": {
           "colorbar": {
            "outlinewidth": 0,
            "ticks": ""
           }
          },
          "colorscale": {
           "diverging": [
            [
             0,
             "#8e0152"
            ],
            [
             0.1,
             "#c51b7d"
            ],
            [
             0.2,
             "#de77ae"
            ],
            [
             0.3,
             "#f1b6da"
            ],
            [
             0.4,
             "#fde0ef"
            ],
            [
             0.5,
             "#f7f7f7"
            ],
            [
             0.6,
             "#e6f5d0"
            ],
            [
             0.7,
             "#b8e186"
            ],
            [
             0.8,
             "#7fbc41"
            ],
            [
             0.9,
             "#4d9221"
            ],
            [
             1,
             "#276419"
            ]
           ],
           "sequential": [
            [
             0,
             "#0d0887"
            ],
            [
             0.1111111111111111,
             "#46039f"
            ],
            [
             0.2222222222222222,
             "#7201a8"
            ],
            [
             0.3333333333333333,
             "#9c179e"
            ],
            [
             0.4444444444444444,
             "#bd3786"
            ],
            [
             0.5555555555555556,
             "#d8576b"
            ],
            [
             0.6666666666666666,
             "#ed7953"
            ],
            [
             0.7777777777777778,
             "#fb9f3a"
            ],
            [
             0.8888888888888888,
             "#fdca26"
            ],
            [
             1,
             "#f0f921"
            ]
           ],
           "sequentialminus": [
            [
             0,
             "#0d0887"
            ],
            [
             0.1111111111111111,
             "#46039f"
            ],
            [
             0.2222222222222222,
             "#7201a8"
            ],
            [
             0.3333333333333333,
             "#9c179e"
            ],
            [
             0.4444444444444444,
             "#bd3786"
            ],
            [
             0.5555555555555556,
             "#d8576b"
            ],
            [
             0.6666666666666666,
             "#ed7953"
            ],
            [
             0.7777777777777778,
             "#fb9f3a"
            ],
            [
             0.8888888888888888,
             "#fdca26"
            ],
            [
             1,
             "#f0f921"
            ]
           ]
          },
          "colorway": [
           "#636efa",
           "#EF553B",
           "#00cc96",
           "#ab63fa",
           "#FFA15A",
           "#19d3f3",
           "#FF6692",
           "#B6E880",
           "#FF97FF",
           "#FECB52"
          ],
          "font": {
           "color": "#2a3f5f"
          },
          "geo": {
           "bgcolor": "white",
           "lakecolor": "white",
           "landcolor": "white",
           "showlakes": true,
           "showland": true,
           "subunitcolor": "#C8D4E3"
          },
          "hoverlabel": {
           "align": "left"
          },
          "hovermode": "closest",
          "mapbox": {
           "style": "light"
          },
          "paper_bgcolor": "white",
          "plot_bgcolor": "white",
          "polar": {
           "angularaxis": {
            "gridcolor": "#EBF0F8",
            "linecolor": "#EBF0F8",
            "ticks": ""
           },
           "bgcolor": "white",
           "radialaxis": {
            "gridcolor": "#EBF0F8",
            "linecolor": "#EBF0F8",
            "ticks": ""
           }
          },
          "scene": {
           "xaxis": {
            "backgroundcolor": "white",
            "gridcolor": "#DFE8F3",
            "gridwidth": 2,
            "linecolor": "#EBF0F8",
            "showbackground": true,
            "ticks": "",
            "zerolinecolor": "#EBF0F8"
           },
           "yaxis": {
            "backgroundcolor": "white",
            "gridcolor": "#DFE8F3",
            "gridwidth": 2,
            "linecolor": "#EBF0F8",
            "showbackground": true,
            "ticks": "",
            "zerolinecolor": "#EBF0F8"
           },
           "zaxis": {
            "backgroundcolor": "white",
            "gridcolor": "#DFE8F3",
            "gridwidth": 2,
            "linecolor": "#EBF0F8",
            "showbackground": true,
            "ticks": "",
            "zerolinecolor": "#EBF0F8"
           }
          },
          "shapedefaults": {
           "line": {
            "color": "#2a3f5f"
           }
          },
          "ternary": {
           "aaxis": {
            "gridcolor": "#DFE8F3",
            "linecolor": "#A2B1C6",
            "ticks": ""
           },
           "baxis": {
            "gridcolor": "#DFE8F3",
            "linecolor": "#A2B1C6",
            "ticks": ""
           },
           "bgcolor": "white",
           "caxis": {
            "gridcolor": "#DFE8F3",
            "linecolor": "#A2B1C6",
            "ticks": ""
           }
          },
          "title": {
           "x": 0.05
          },
          "xaxis": {
           "automargin": true,
           "gridcolor": "#EBF0F8",
           "linecolor": "#EBF0F8",
           "ticks": "",
           "title": {
            "standoff": 15
           },
           "zerolinecolor": "#EBF0F8",
           "zerolinewidth": 2
          },
          "yaxis": {
           "automargin": true,
           "gridcolor": "#EBF0F8",
           "linecolor": "#EBF0F8",
           "ticks": "",
           "title": {
            "standoff": 15
           },
           "zerolinecolor": "#EBF0F8",
           "zerolinewidth": 2
          }
         }
        },
        "title": {
         "text": "Portfolio Optimization Comparison"
        },
        "width": 800,
        "xaxis": {
         "title": {
          "text": "Volatility (Annual)"
         }
        },
        "yaxis": {
         "title": {
          "text": "Expected Return (Annual)"
         }
        }
       }
      },
      "text/html": [
       "<div>                            <div id=\"8090c5d9-3dbb-423e-88c5-99dd91b8bdb7\" class=\"plotly-graph-div\" style=\"height:600px; width:800px;\"></div>            <script type=\"text/javascript\">                require([\"plotly\"], function(Plotly) {                    window.PLOTLYENV=window.PLOTLYENV || {};                                    if (document.getElementById(\"8090c5d9-3dbb-423e-88c5-99dd91b8bdb7\")) {                    Plotly.newPlot(                        \"8090c5d9-3dbb-423e-88c5-99dd91b8bdb7\",                        [{\"marker\":{\"color\":\"blue\",\"size\":12},\"mode\":\"markers\",\"name\":\"Equal Weight\",\"x\":[0.19205038328281918],\"y\":[0.09956615637846242],\"type\":\"scatter\"},{\"marker\":{\"color\":\"red\",\"size\":12},\"mode\":\"markers\",\"name\":\"Mean Variance\",\"x\":[0.15918187726546001],\"y\":[0.17163495012614505],\"type\":\"scatter\"},{\"marker\":{\"color\":\"green\",\"size\":12},\"mode\":\"markers\",\"name\":\"Risk Parity\",\"x\":[0.17873191260931237],\"y\":[0.07882639278753413],\"type\":\"scatter\"},{\"marker\":{\"color\":\"orange\",\"size\":12},\"mode\":\"markers\",\"name\":\"Minimum Variance\",\"x\":[0.13882302071578673],\"y\":[0.011129071644651656],\"type\":\"scatter\"}],                        {\"template\":{\"data\":{\"barpolar\":[{\"marker\":{\"line\":{\"color\":\"white\",\"width\":0.5},\"pattern\":{\"fillmode\":\"overlay\",\"size\":10,\"solidity\":0.2}},\"type\":\"barpolar\"}],\"bar\":[{\"error_x\":{\"color\":\"#2a3f5f\"},\"error_y\":{\"color\":\"#2a3f5f\"},\"marker\":{\"line\":{\"color\":\"white\",\"width\":0.5},\"pattern\":{\"fillmode\":\"overlay\",\"size\":10,\"solidity\":0.2}},\"type\":\"bar\"}],\"carpet\":[{\"aaxis\":{\"endlinecolor\":\"#2a3f5f\",\"gridcolor\":\"#C8D4E3\",\"linecolor\":\"#C8D4E3\",\"minorgridcolor\":\"#C8D4E3\",\"startlinecolor\":\"#2a3f5f\"},\"baxis\":{\"endlinecolor\":\"#2a3f5f\",\"gridcolor\":\"#C8D4E3\",\"linecolor\":\"#C8D4E3\",\"minorgridcolor\":\"#C8D4E3\",\"startlinecolor\":\"#2a3f5f\"},\"type\":\"carpet\"}],\"choropleth\":[{\"colorbar\":{\"outlinewidth\":0,\"ticks\":\"\"},\"type\":\"choropleth\"}],\"contourcarpet\":[{\"colorbar\":{\"outlinewidth\":0,\"ticks\":\"\"},\"type\":\"contourcarpet\"}],\"contour\":[{\"colorbar\":{\"outlinewidth\":0,\"ticks\":\"\"},\"colorscale\":[[0.0,\"#0d0887\"],[0.1111111111111111,\"#46039f\"],[0.2222222222222222,\"#7201a8\"],[0.3333333333333333,\"#9c179e\"],[0.4444444444444444,\"#bd3786\"],[0.5555555555555556,\"#d8576b\"],[0.6666666666666666,\"#ed7953\"],[0.7777777777777778,\"#fb9f3a\"],[0.8888888888888888,\"#fdca26\"],[1.0,\"#f0f921\"]],\"type\":\"contour\"}],\"heatmapgl\":[{\"colorbar\":{\"outlinewidth\":0,\"ticks\":\"\"},\"colorscale\":[[0.0,\"#0d0887\"],[0.1111111111111111,\"#46039f\"],[0.2222222222222222,\"#7201a8\"],[0.3333333333333333,\"#9c179e\"],[0.4444444444444444,\"#bd3786\"],[0.5555555555555556,\"#d8576b\"],[0.6666666666666666,\"#ed7953\"],[0.7777777777777778,\"#fb9f3a\"],[0.8888888888888888,\"#fdca26\"],[1.0,\"#f0f921\"]],\"type\":\"heatmapgl\"}],\"heatmap\":[{\"colorbar\":{\"outlinewidth\":0,\"ticks\":\"\"},\"colorscale\":[[0.0,\"#0d0887\"],[0.1111111111111111,\"#46039f\"],[0.2222222222222222,\"#7201a8\"],[0.3333333333333333,\"#9c179e\"],[0.4444444444444444,\"#bd3786\"],[0.5555555555555556,\"#d8576b\"],[0.6666666666666666,\"#ed7953\"],[0.7777777777777778,\"#fb9f3a\"],[0.8888888888888888,\"#fdca26\"],[1.0,\"#f0f921\"]],\"type\":\"heatmap\"}],\"histogram2dcontour\":[{\"colorbar\":{\"outlinewidth\":0,\"ticks\":\"\"},\"colorscale\":[[0.0,\"#0d0887\"],[0.1111111111111111,\"#46039f\"],[0.2222222222222222,\"#7201a8\"],[0.3333333333333333,\"#9c179e\"],[0.4444444444444444,\"#bd3786\"],[0.5555555555555556,\"#d8576b\"],[0.6666666666666666,\"#ed7953\"],[0.7777777777777778,\"#fb9f3a\"],[0.8888888888888888,\"#fdca26\"],[1.0,\"#f0f921\"]],\"type\":\"histogram2dcontour\"}],\"histogram2d\":[{\"colorbar\":{\"outlinewidth\":0,\"ticks\":\"\"},\"colorscale\":[[0.0,\"#0d0887\"],[0.1111111111111111,\"#46039f\"],[0.2222222222222222,\"#7201a8\"],[0.3333333333333333,\"#9c179e\"],[0.4444444444444444,\"#bd3786\"],[0.5555555555555556,\"#d8576b\"],[0.6666666666666666,\"#ed7953\"],[0.7777777777777778,\"#fb9f3a\"],[0.8888888888888888,\"#fdca26\"],[1.0,\"#f0f921\"]],\"type\":\"histogram2d\"}],\"histogram\":[{\"marker\":{\"pattern\":{\"fillmode\":\"overlay\",\"size\":10,\"solidity\":0.2}},\"type\":\"histogram\"}],\"mesh3d\":[{\"colorbar\":{\"outlinewidth\":0,\"ticks\":\"\"},\"type\":\"mesh3d\"}],\"parcoords\":[{\"line\":{\"colorbar\":{\"outlinewidth\":0,\"ticks\":\"\"}},\"type\":\"parcoords\"}],\"pie\":[{\"automargin\":true,\"type\":\"pie\"}],\"scatter3d\":[{\"line\":{\"colorbar\":{\"outlinewidth\":0,\"ticks\":\"\"}},\"marker\":{\"colorbar\":{\"outlinewidth\":0,\"ticks\":\"\"}},\"type\":\"scatter3d\"}],\"scattercarpet\":[{\"marker\":{\"colorbar\":{\"outlinewidth\":0,\"ticks\":\"\"}},\"type\":\"scattercarpet\"}],\"scattergeo\":[{\"marker\":{\"colorbar\":{\"outlinewidth\":0,\"ticks\":\"\"}},\"type\":\"scattergeo\"}],\"scattergl\":[{\"marker\":{\"colorbar\":{\"outlinewidth\":0,\"ticks\":\"\"}},\"type\":\"scattergl\"}],\"scattermapbox\":[{\"marker\":{\"colorbar\":{\"outlinewidth\":0,\"ticks\":\"\"}},\"type\":\"scattermapbox\"}],\"scatterpolargl\":[{\"marker\":{\"colorbar\":{\"outlinewidth\":0,\"ticks\":\"\"}},\"type\":\"scatterpolargl\"}],\"scatterpolar\":[{\"marker\":{\"colorbar\":{\"outlinewidth\":0,\"ticks\":\"\"}},\"type\":\"scatterpolar\"}],\"scatter\":[{\"fillpattern\":{\"fillmode\":\"overlay\",\"size\":10,\"solidity\":0.2},\"type\":\"scatter\"}],\"scatterternary\":[{\"marker\":{\"colorbar\":{\"outlinewidth\":0,\"ticks\":\"\"}},\"type\":\"scatterternary\"}],\"surface\":[{\"colorbar\":{\"outlinewidth\":0,\"ticks\":\"\"},\"colorscale\":[[0.0,\"#0d0887\"],[0.1111111111111111,\"#46039f\"],[0.2222222222222222,\"#7201a8\"],[0.3333333333333333,\"#9c179e\"],[0.4444444444444444,\"#bd3786\"],[0.5555555555555556,\"#d8576b\"],[0.6666666666666666,\"#ed7953\"],[0.7777777777777778,\"#fb9f3a\"],[0.8888888888888888,\"#fdca26\"],[1.0,\"#f0f921\"]],\"type\":\"surface\"}],\"table\":[{\"cells\":{\"fill\":{\"color\":\"#EBF0F8\"},\"line\":{\"color\":\"white\"}},\"header\":{\"fill\":{\"color\":\"#C8D4E3\"},\"line\":{\"color\":\"white\"}},\"type\":\"table\"}]},\"layout\":{\"annotationdefaults\":{\"arrowcolor\":\"#2a3f5f\",\"arrowhead\":0,\"arrowwidth\":1},\"autotypenumbers\":\"strict\",\"coloraxis\":{\"colorbar\":{\"outlinewidth\":0,\"ticks\":\"\"}},\"colorscale\":{\"diverging\":[[0,\"#8e0152\"],[0.1,\"#c51b7d\"],[0.2,\"#de77ae\"],[0.3,\"#f1b6da\"],[0.4,\"#fde0ef\"],[0.5,\"#f7f7f7\"],[0.6,\"#e6f5d0\"],[0.7,\"#b8e186\"],[0.8,\"#7fbc41\"],[0.9,\"#4d9221\"],[1,\"#276419\"]],\"sequential\":[[0.0,\"#0d0887\"],[0.1111111111111111,\"#46039f\"],[0.2222222222222222,\"#7201a8\"],[0.3333333333333333,\"#9c179e\"],[0.4444444444444444,\"#bd3786\"],[0.5555555555555556,\"#d8576b\"],[0.6666666666666666,\"#ed7953\"],[0.7777777777777778,\"#fb9f3a\"],[0.8888888888888888,\"#fdca26\"],[1.0,\"#f0f921\"]],\"sequentialminus\":[[0.0,\"#0d0887\"],[0.1111111111111111,\"#46039f\"],[0.2222222222222222,\"#7201a8\"],[0.3333333333333333,\"#9c179e\"],[0.4444444444444444,\"#bd3786\"],[0.5555555555555556,\"#d8576b\"],[0.6666666666666666,\"#ed7953\"],[0.7777777777777778,\"#fb9f3a\"],[0.8888888888888888,\"#fdca26\"],[1.0,\"#f0f921\"]]},\"colorway\":[\"#636efa\",\"#EF553B\",\"#00cc96\",\"#ab63fa\",\"#FFA15A\",\"#19d3f3\",\"#FF6692\",\"#B6E880\",\"#FF97FF\",\"#FECB52\"],\"font\":{\"color\":\"#2a3f5f\"},\"geo\":{\"bgcolor\":\"white\",\"lakecolor\":\"white\",\"landcolor\":\"white\",\"showlakes\":true,\"showland\":true,\"subunitcolor\":\"#C8D4E3\"},\"hoverlabel\":{\"align\":\"left\"},\"hovermode\":\"closest\",\"mapbox\":{\"style\":\"light\"},\"paper_bgcolor\":\"white\",\"plot_bgcolor\":\"white\",\"polar\":{\"angularaxis\":{\"gridcolor\":\"#EBF0F8\",\"linecolor\":\"#EBF0F8\",\"ticks\":\"\"},\"bgcolor\":\"white\",\"radialaxis\":{\"gridcolor\":\"#EBF0F8\",\"linecolor\":\"#EBF0F8\",\"ticks\":\"\"}},\"scene\":{\"xaxis\":{\"backgroundcolor\":\"white\",\"gridcolor\":\"#DFE8F3\",\"gridwidth\":2,\"linecolor\":\"#EBF0F8\",\"showbackground\":true,\"ticks\":\"\",\"zerolinecolor\":\"#EBF0F8\"},\"yaxis\":{\"backgroundcolor\":\"white\",\"gridcolor\":\"#DFE8F3\",\"gridwidth\":2,\"linecolor\":\"#EBF0F8\",\"showbackground\":true,\"ticks\":\"\",\"zerolinecolor\":\"#EBF0F8\"},\"zaxis\":{\"backgroundcolor\":\"white\",\"gridcolor\":\"#DFE8F3\",\"gridwidth\":2,\"linecolor\":\"#EBF0F8\",\"showbackground\":true,\"ticks\":\"\",\"zerolinecolor\":\"#EBF0F8\"}},\"shapedefaults\":{\"line\":{\"color\":\"#2a3f5f\"}},\"ternary\":{\"aaxis\":{\"gridcolor\":\"#DFE8F3\",\"linecolor\":\"#A2B1C6\",\"ticks\":\"\"},\"baxis\":{\"gridcolor\":\"#DFE8F3\",\"linecolor\":\"#A2B1C6\",\"ticks\":\"\"},\"bgcolor\":\"white\",\"caxis\":{\"gridcolor\":\"#DFE8F3\",\"linecolor\":\"#A2B1C6\",\"ticks\":\"\"}},\"title\":{\"x\":0.05},\"xaxis\":{\"automargin\":true,\"gridcolor\":\"#EBF0F8\",\"linecolor\":\"#EBF0F8\",\"ticks\":\"\",\"title\":{\"standoff\":15},\"zerolinecolor\":\"#EBF0F8\",\"zerolinewidth\":2},\"yaxis\":{\"automargin\":true,\"gridcolor\":\"#EBF0F8\",\"linecolor\":\"#EBF0F8\",\"ticks\":\"\",\"title\":{\"standoff\":15},\"zerolinecolor\":\"#EBF0F8\",\"zerolinewidth\":2}}},\"title\":{\"text\":\"Portfolio Optimization Comparison\"},\"xaxis\":{\"title\":{\"text\":\"Volatility (Annual)\"}},\"yaxis\":{\"title\":{\"text\":\"Expected Return (Annual)\"}},\"width\":800,\"height\":600},                        {\"responsive\": true}                    ).then(function(){\n",
       "                            \n",
       "var gd = document.getElementById('8090c5d9-3dbb-423e-88c5-99dd91b8bdb7');\n",
       "var x = new MutationObserver(function (mutations, observer) {{\n",
       "        var display = window.getComputedStyle(gd).display;\n",
       "        if (!display || display === 'none') {{\n",
       "            console.log([gd, 'removed!']);\n",
       "            Plotly.purge(gd);\n",
       "            observer.disconnect();\n",
       "        }}\n",
       "}});\n",
       "\n",
       "// Listen for the removal of the full notebook cells\n",
       "var notebookContainer = gd.closest('#notebook-container');\n",
       "if (notebookContainer) {{\n",
       "    x.observe(notebookContainer, {childList: true});\n",
       "}}\n",
       "\n",
       "// Listen for the clearing of the current output cell\n",
       "var outputEl = gd.closest('.output');\n",
       "if (outputEl) {{\n",
       "    x.observe(outputEl, {childList: true});\n",
       "}}\n",
       "\n",
       "                        })                };                });            </script>        </div>"
      ]
     },
     "metadata": {},
     "output_type": "display_data"
    },
    {
     "name": "stdout",
     "output_type": "stream",
     "text": [
      "💾 Saved portfolio comparison to: ../data/figures/portfolio_optimization_comparison.html\n"
     ]
    },
    {
     "data": {
      "application/vnd.plotly.v1+json": {
       "config": {
        "plotlyServerURL": "https://plot.ly"
       },
       "data": [
        {
         "domain": {
          "x": [
           0,
           0.45
          ],
          "y": [
           0.625,
           1
          ]
         },
         "labels": [
          "EOG",
          "COP",
          "BA",
          "CAT",
          "C",
          "BAC",
          "GS",
          "GOOGL",
          "GE",
          "CVX",
          "Others"
         ],
         "name": "Equal Weight",
         "type": "pie",
         "values": [
          0.09255731476748455,
          0.08855119401395786,
          0.08403327973311278,
          0.08302481699840161,
          0.07674591167908294,
          0.07665639580031465,
          0.07158600568349927,
          0.07147637762428906,
          0.0689445508148212,
          0.06798266727002254,
          0.2184414856150137
         ]
        },
        {
         "domain": {
          "x": [
           0.55,
           1
          ],
          "y": [
           0.625,
           1
          ]
         },
         "labels": [
          "GE",
          "ABBV",
          "JNJ",
          "BA",
          "AAPL",
          "CAT",
          "GOOGL",
          "COP",
          "BAC",
          "C",
          "Others"
         ],
         "name": "Mean Variance",
         "type": "pie",
         "values": [
          0.35344103770388197,
          0.19730885848000504,
          0.13552553086837385,
          0.09271590460559534,
          0.06752437226484623,
          0.03142395135882136,
          0.026730042819280844,
          0.02436918380487144,
          0.011412614991773366,
          0.011316175429464349,
          0.04823232767308619
         ]
        },
        {
         "domain": {
          "x": [
           0,
           0.45
          ],
          "y": [
           0,
           0.375
          ]
         },
         "labels": [
          "GS",
          "C",
          "BAC",
          "HON",
          "CAT",
          "CVX",
          "GE",
          "AAPL",
          "EOG",
          "COP",
          "Others"
         ],
         "name": "Risk Parity",
         "type": "pie",
         "values": [
          0.07978367889206056,
          0.07937181282617274,
          0.07834966812074677,
          0.07796775621395598,
          0.0756723778469967,
          0.07087642368280568,
          0.0708118486892151,
          0.06713833063214776,
          0.06599784411239681,
          0.06549523632444892,
          0.26853502265905294
         ]
        },
        {
         "domain": {
          "x": [
           0.55,
           1
          ],
          "y": [
           0,
           0.375
          ]
         },
         "labels": [
          "ABBV",
          "JNJ",
          "HON",
          "CVX",
          "HD",
          "GE",
          "GOOGL",
          "AAPL",
          "EOG",
          "C",
          "Others"
         ],
         "name": "Minimum Variance",
         "type": "pie",
         "values": [
          0.2910866500749145,
          0.24531446469587917,
          0.15515054070302017,
          0.14435102023082072,
          0.11764284624058333,
          0.029936120974665678,
          0.016405535588648948,
          0.00011282149146763869,
          1.2120541325165699e-23,
          -7.063448759698307e-25,
          -1.1212737598182017e-23
         ]
        }
       ],
       "layout": {
        "annotations": [
         {
          "font": {
           "size": 16
          },
          "showarrow": false,
          "text": "Equal Weight",
          "x": 0.225,
          "xanchor": "center",
          "xref": "paper",
          "y": 1,
          "yanchor": "bottom",
          "yref": "paper"
         },
         {
          "font": {
           "size": 16
          },
          "showarrow": false,
          "text": "Mean Variance",
          "x": 0.775,
          "xanchor": "center",
          "xref": "paper",
          "y": 1,
          "yanchor": "bottom",
          "yref": "paper"
         },
         {
          "font": {
           "size": 16
          },
          "showarrow": false,
          "text": "Risk Parity",
          "x": 0.225,
          "xanchor": "center",
          "xref": "paper",
          "y": 0.375,
          "yanchor": "bottom",
          "yref": "paper"
         },
         {
          "font": {
           "size": 16
          },
          "showarrow": false,
          "text": "Minimum Variance",
          "x": 0.775,
          "xanchor": "center",
          "xref": "paper",
          "y": 0.375,
          "yanchor": "bottom",
          "yref": "paper"
         }
        ],
        "height": 800,
        "template": {
         "data": {
          "bar": [
           {
            "error_x": {
             "color": "#2a3f5f"
            },
            "error_y": {
             "color": "#2a3f5f"
            },
            "marker": {
             "line": {
              "color": "white",
              "width": 0.5
             },
             "pattern": {
              "fillmode": "overlay",
              "size": 10,
              "solidity": 0.2
             }
            },
            "type": "bar"
           }
          ],
          "barpolar": [
           {
            "marker": {
             "line": {
              "color": "white",
              "width": 0.5
             },
             "pattern": {
              "fillmode": "overlay",
              "size": 10,
              "solidity": 0.2
             }
            },
            "type": "barpolar"
           }
          ],
          "carpet": [
           {
            "aaxis": {
             "endlinecolor": "#2a3f5f",
             "gridcolor": "#C8D4E3",
             "linecolor": "#C8D4E3",
             "minorgridcolor": "#C8D4E3",
             "startlinecolor": "#2a3f5f"
            },
            "baxis": {
             "endlinecolor": "#2a3f5f",
             "gridcolor": "#C8D4E3",
             "linecolor": "#C8D4E3",
             "minorgridcolor": "#C8D4E3",
             "startlinecolor": "#2a3f5f"
            },
            "type": "carpet"
           }
          ],
          "choropleth": [
           {
            "colorbar": {
             "outlinewidth": 0,
             "ticks": ""
            },
            "type": "choropleth"
           }
          ],
          "contour": [
           {
            "colorbar": {
             "outlinewidth": 0,
             "ticks": ""
            },
            "colorscale": [
             [
              0,
              "#0d0887"
             ],
             [
              0.1111111111111111,
              "#46039f"
             ],
             [
              0.2222222222222222,
              "#7201a8"
             ],
             [
              0.3333333333333333,
              "#9c179e"
             ],
             [
              0.4444444444444444,
              "#bd3786"
             ],
             [
              0.5555555555555556,
              "#d8576b"
             ],
             [
              0.6666666666666666,
              "#ed7953"
             ],
             [
              0.7777777777777778,
              "#fb9f3a"
             ],
             [
              0.8888888888888888,
              "#fdca26"
             ],
             [
              1,
              "#f0f921"
             ]
            ],
            "type": "contour"
           }
          ],
          "contourcarpet": [
           {
            "colorbar": {
             "outlinewidth": 0,
             "ticks": ""
            },
            "type": "contourcarpet"
           }
          ],
          "heatmap": [
           {
            "colorbar": {
             "outlinewidth": 0,
             "ticks": ""
            },
            "colorscale": [
             [
              0,
              "#0d0887"
             ],
             [
              0.1111111111111111,
              "#46039f"
             ],
             [
              0.2222222222222222,
              "#7201a8"
             ],
             [
              0.3333333333333333,
              "#9c179e"
             ],
             [
              0.4444444444444444,
              "#bd3786"
             ],
             [
              0.5555555555555556,
              "#d8576b"
             ],
             [
              0.6666666666666666,
              "#ed7953"
             ],
             [
              0.7777777777777778,
              "#fb9f3a"
             ],
             [
              0.8888888888888888,
              "#fdca26"
             ],
             [
              1,
              "#f0f921"
             ]
            ],
            "type": "heatmap"
           }
          ],
          "heatmapgl": [
           {
            "colorbar": {
             "outlinewidth": 0,
             "ticks": ""
            },
            "colorscale": [
             [
              0,
              "#0d0887"
             ],
             [
              0.1111111111111111,
              "#46039f"
             ],
             [
              0.2222222222222222,
              "#7201a8"
             ],
             [
              0.3333333333333333,
              "#9c179e"
             ],
             [
              0.4444444444444444,
              "#bd3786"
             ],
             [
              0.5555555555555556,
              "#d8576b"
             ],
             [
              0.6666666666666666,
              "#ed7953"
             ],
             [
              0.7777777777777778,
              "#fb9f3a"
             ],
             [
              0.8888888888888888,
              "#fdca26"
             ],
             [
              1,
              "#f0f921"
             ]
            ],
            "type": "heatmapgl"
           }
          ],
          "histogram": [
           {
            "marker": {
             "pattern": {
              "fillmode": "overlay",
              "size": 10,
              "solidity": 0.2
             }
            },
            "type": "histogram"
           }
          ],
          "histogram2d": [
           {
            "colorbar": {
             "outlinewidth": 0,
             "ticks": ""
            },
            "colorscale": [
             [
              0,
              "#0d0887"
             ],
             [
              0.1111111111111111,
              "#46039f"
             ],
             [
              0.2222222222222222,
              "#7201a8"
             ],
             [
              0.3333333333333333,
              "#9c179e"
             ],
             [
              0.4444444444444444,
              "#bd3786"
             ],
             [
              0.5555555555555556,
              "#d8576b"
             ],
             [
              0.6666666666666666,
              "#ed7953"
             ],
             [
              0.7777777777777778,
              "#fb9f3a"
             ],
             [
              0.8888888888888888,
              "#fdca26"
             ],
             [
              1,
              "#f0f921"
             ]
            ],
            "type": "histogram2d"
           }
          ],
          "histogram2dcontour": [
           {
            "colorbar": {
             "outlinewidth": 0,
             "ticks": ""
            },
            "colorscale": [
             [
              0,
              "#0d0887"
             ],
             [
              0.1111111111111111,
              "#46039f"
             ],
             [
              0.2222222222222222,
              "#7201a8"
             ],
             [
              0.3333333333333333,
              "#9c179e"
             ],
             [
              0.4444444444444444,
              "#bd3786"
             ],
             [
              0.5555555555555556,
              "#d8576b"
             ],
             [
              0.6666666666666666,
              "#ed7953"
             ],
             [
              0.7777777777777778,
              "#fb9f3a"
             ],
             [
              0.8888888888888888,
              "#fdca26"
             ],
             [
              1,
              "#f0f921"
             ]
            ],
            "type": "histogram2dcontour"
           }
          ],
          "mesh3d": [
           {
            "colorbar": {
             "outlinewidth": 0,
             "ticks": ""
            },
            "type": "mesh3d"
           }
          ],
          "parcoords": [
           {
            "line": {
             "colorbar": {
              "outlinewidth": 0,
              "ticks": ""
             }
            },
            "type": "parcoords"
           }
          ],
          "pie": [
           {
            "automargin": true,
            "type": "pie"
           }
          ],
          "scatter": [
           {
            "fillpattern": {
             "fillmode": "overlay",
             "size": 10,
             "solidity": 0.2
            },
            "type": "scatter"
           }
          ],
          "scatter3d": [
           {
            "line": {
             "colorbar": {
              "outlinewidth": 0,
              "ticks": ""
             }
            },
            "marker": {
             "colorbar": {
              "outlinewidth": 0,
              "ticks": ""
             }
            },
            "type": "scatter3d"
           }
          ],
          "scattercarpet": [
           {
            "marker": {
             "colorbar": {
              "outlinewidth": 0,
              "ticks": ""
             }
            },
            "type": "scattercarpet"
           }
          ],
          "scattergeo": [
           {
            "marker": {
             "colorbar": {
              "outlinewidth": 0,
              "ticks": ""
             }
            },
            "type": "scattergeo"
           }
          ],
          "scattergl": [
           {
            "marker": {
             "colorbar": {
              "outlinewidth": 0,
              "ticks": ""
             }
            },
            "type": "scattergl"
           }
          ],
          "scattermapbox": [
           {
            "marker": {
             "colorbar": {
              "outlinewidth": 0,
              "ticks": ""
             }
            },
            "type": "scattermapbox"
           }
          ],
          "scatterpolar": [
           {
            "marker": {
             "colorbar": {
              "outlinewidth": 0,
              "ticks": ""
             }
            },
            "type": "scatterpolar"
           }
          ],
          "scatterpolargl": [
           {
            "marker": {
             "colorbar": {
              "outlinewidth": 0,
              "ticks": ""
             }
            },
            "type": "scatterpolargl"
           }
          ],
          "scatterternary": [
           {
            "marker": {
             "colorbar": {
              "outlinewidth": 0,
              "ticks": ""
             }
            },
            "type": "scatterternary"
           }
          ],
          "surface": [
           {
            "colorbar": {
             "outlinewidth": 0,
             "ticks": ""
            },
            "colorscale": [
             [
              0,
              "#0d0887"
             ],
             [
              0.1111111111111111,
              "#46039f"
             ],
             [
              0.2222222222222222,
              "#7201a8"
             ],
             [
              0.3333333333333333,
              "#9c179e"
             ],
             [
              0.4444444444444444,
              "#bd3786"
             ],
             [
              0.5555555555555556,
              "#d8576b"
             ],
             [
              0.6666666666666666,
              "#ed7953"
             ],
             [
              0.7777777777777778,
              "#fb9f3a"
             ],
             [
              0.8888888888888888,
              "#fdca26"
             ],
             [
              1,
              "#f0f921"
             ]
            ],
            "type": "surface"
           }
          ],
          "table": [
           {
            "cells": {
             "fill": {
              "color": "#EBF0F8"
             },
             "line": {
              "color": "white"
             }
            },
            "header": {
             "fill": {
              "color": "#C8D4E3"
             },
             "line": {
              "color": "white"
             }
            },
            "type": "table"
           }
          ]
         },
         "layout": {
          "annotationdefaults": {
           "arrowcolor": "#2a3f5f",
           "arrowhead": 0,
           "arrowwidth": 1
          },
          "autotypenumbers": "strict",
          "coloraxis": {
           "colorbar": {
            "outlinewidth": 0,
            "ticks": ""
           }
          },
          "colorscale": {
           "diverging": [
            [
             0,
             "#8e0152"
            ],
            [
             0.1,
             "#c51b7d"
            ],
            [
             0.2,
             "#de77ae"
            ],
            [
             0.3,
             "#f1b6da"
            ],
            [
             0.4,
             "#fde0ef"
            ],
            [
             0.5,
             "#f7f7f7"
            ],
            [
             0.6,
             "#e6f5d0"
            ],
            [
             0.7,
             "#b8e186"
            ],
            [
             0.8,
             "#7fbc41"
            ],
            [
             0.9,
             "#4d9221"
            ],
            [
             1,
             "#276419"
            ]
           ],
           "sequential": [
            [
             0,
             "#0d0887"
            ],
            [
             0.1111111111111111,
             "#46039f"
            ],
            [
             0.2222222222222222,
             "#7201a8"
            ],
            [
             0.3333333333333333,
             "#9c179e"
            ],
            [
             0.4444444444444444,
             "#bd3786"
            ],
            [
             0.5555555555555556,
             "#d8576b"
            ],
            [
             0.6666666666666666,
             "#ed7953"
            ],
            [
             0.7777777777777778,
             "#fb9f3a"
            ],
            [
             0.8888888888888888,
             "#fdca26"
            ],
            [
             1,
             "#f0f921"
            ]
           ],
           "sequentialminus": [
            [
             0,
             "#0d0887"
            ],
            [
             0.1111111111111111,
             "#46039f"
            ],
            [
             0.2222222222222222,
             "#7201a8"
            ],
            [
             0.3333333333333333,
             "#9c179e"
            ],
            [
             0.4444444444444444,
             "#bd3786"
            ],
            [
             0.5555555555555556,
             "#d8576b"
            ],
            [
             0.6666666666666666,
             "#ed7953"
            ],
            [
             0.7777777777777778,
             "#fb9f3a"
            ],
            [
             0.8888888888888888,
             "#fdca26"
            ],
            [
             1,
             "#f0f921"
            ]
           ]
          },
          "colorway": [
           "#636efa",
           "#EF553B",
           "#00cc96",
           "#ab63fa",
           "#FFA15A",
           "#19d3f3",
           "#FF6692",
           "#B6E880",
           "#FF97FF",
           "#FECB52"
          ],
          "font": {
           "color": "#2a3f5f"
          },
          "geo": {
           "bgcolor": "white",
           "lakecolor": "white",
           "landcolor": "white",
           "showlakes": true,
           "showland": true,
           "subunitcolor": "#C8D4E3"
          },
          "hoverlabel": {
           "align": "left"
          },
          "hovermode": "closest",
          "mapbox": {
           "style": "light"
          },
          "paper_bgcolor": "white",
          "plot_bgcolor": "white",
          "polar": {
           "angularaxis": {
            "gridcolor": "#EBF0F8",
            "linecolor": "#EBF0F8",
            "ticks": ""
           },
           "bgcolor": "white",
           "radialaxis": {
            "gridcolor": "#EBF0F8",
            "linecolor": "#EBF0F8",
            "ticks": ""
           }
          },
          "scene": {
           "xaxis": {
            "backgroundcolor": "white",
            "gridcolor": "#DFE8F3",
            "gridwidth": 2,
            "linecolor": "#EBF0F8",
            "showbackground": true,
            "ticks": "",
            "zerolinecolor": "#EBF0F8"
           },
           "yaxis": {
            "backgroundcolor": "white",
            "gridcolor": "#DFE8F3",
            "gridwidth": 2,
            "linecolor": "#EBF0F8",
            "showbackground": true,
            "ticks": "",
            "zerolinecolor": "#EBF0F8"
           },
           "zaxis": {
            "backgroundcolor": "white",
            "gridcolor": "#DFE8F3",
            "gridwidth": 2,
            "linecolor": "#EBF0F8",
            "showbackground": true,
            "ticks": "",
            "zerolinecolor": "#EBF0F8"
           }
          },
          "shapedefaults": {
           "line": {
            "color": "#2a3f5f"
           }
          },
          "ternary": {
           "aaxis": {
            "gridcolor": "#DFE8F3",
            "linecolor": "#A2B1C6",
            "ticks": ""
           },
           "baxis": {
            "gridcolor": "#DFE8F3",
            "linecolor": "#A2B1C6",
            "ticks": ""
           },
           "bgcolor": "white",
           "caxis": {
            "gridcolor": "#DFE8F3",
            "linecolor": "#A2B1C6",
            "ticks": ""
           }
          },
          "title": {
           "x": 0.05
          },
          "xaxis": {
           "automargin": true,
           "gridcolor": "#EBF0F8",
           "linecolor": "#EBF0F8",
           "ticks": "",
           "title": {
            "standoff": 15
           },
           "zerolinecolor": "#EBF0F8",
           "zerolinewidth": 2
          },
          "yaxis": {
           "automargin": true,
           "gridcolor": "#EBF0F8",
           "linecolor": "#EBF0F8",
           "ticks": "",
           "title": {
            "standoff": 15
           },
           "zerolinecolor": "#EBF0F8",
           "zerolinewidth": 2
          }
         }
        },
        "title": {
         "text": "Risk Contribution by Asset"
        }
       }
      },
      "text/html": [
       "<div>                            <div id=\"871d8735-cb47-4237-a529-3a1c9923392b\" class=\"plotly-graph-div\" style=\"height:800px; width:100%;\"></div>            <script type=\"text/javascript\">                require([\"plotly\"], function(Plotly) {                    window.PLOTLYENV=window.PLOTLYENV || {};                                    if (document.getElementById(\"871d8735-cb47-4237-a529-3a1c9923392b\")) {                    Plotly.newPlot(                        \"871d8735-cb47-4237-a529-3a1c9923392b\",                        [{\"labels\":[\"EOG\",\"COP\",\"BA\",\"CAT\",\"C\",\"BAC\",\"GS\",\"GOOGL\",\"GE\",\"CVX\",\"Others\"],\"name\":\"Equal Weight\",\"values\":[0.09255731476748455,0.08855119401395786,0.08403327973311278,0.08302481699840161,0.07674591167908294,0.07665639580031465,0.07158600568349927,0.07147637762428906,0.0689445508148212,0.06798266727002254,0.2184414856150137],\"type\":\"pie\",\"domain\":{\"x\":[0.0,0.45],\"y\":[0.625,1.0]}},{\"labels\":[\"GE\",\"ABBV\",\"JNJ\",\"BA\",\"AAPL\",\"CAT\",\"GOOGL\",\"COP\",\"BAC\",\"C\",\"Others\"],\"name\":\"Mean Variance\",\"values\":[0.35344103770388197,0.19730885848000504,0.13552553086837385,0.09271590460559534,0.06752437226484623,0.03142395135882136,0.026730042819280844,0.02436918380487144,0.011412614991773366,0.011316175429464349,0.04823232767308619],\"type\":\"pie\",\"domain\":{\"x\":[0.55,1.0],\"y\":[0.625,1.0]}},{\"labels\":[\"GS\",\"C\",\"BAC\",\"HON\",\"CAT\",\"CVX\",\"GE\",\"AAPL\",\"EOG\",\"COP\",\"Others\"],\"name\":\"Risk Parity\",\"values\":[0.07978367889206056,0.07937181282617274,0.07834966812074677,0.07796775621395598,0.0756723778469967,0.07087642368280568,0.0708118486892151,0.06713833063214776,0.06599784411239681,0.06549523632444892,0.26853502265905294],\"type\":\"pie\",\"domain\":{\"x\":[0.0,0.45],\"y\":[0.0,0.375]}},{\"labels\":[\"ABBV\",\"JNJ\",\"HON\",\"CVX\",\"HD\",\"GE\",\"GOOGL\",\"AAPL\",\"EOG\",\"C\",\"Others\"],\"name\":\"Minimum Variance\",\"values\":[0.2910866500749145,0.24531446469587917,0.15515054070302017,0.14435102023082072,0.11764284624058333,0.029936120974665678,0.016405535588648948,0.00011282149146763869,1.2120541325165699e-23,-7.063448759698307e-25,-1.1212737598182017e-23],\"type\":\"pie\",\"domain\":{\"x\":[0.55,1.0],\"y\":[0.0,0.375]}}],                        {\"template\":{\"data\":{\"barpolar\":[{\"marker\":{\"line\":{\"color\":\"white\",\"width\":0.5},\"pattern\":{\"fillmode\":\"overlay\",\"size\":10,\"solidity\":0.2}},\"type\":\"barpolar\"}],\"bar\":[{\"error_x\":{\"color\":\"#2a3f5f\"},\"error_y\":{\"color\":\"#2a3f5f\"},\"marker\":{\"line\":{\"color\":\"white\",\"width\":0.5},\"pattern\":{\"fillmode\":\"overlay\",\"size\":10,\"solidity\":0.2}},\"type\":\"bar\"}],\"carpet\":[{\"aaxis\":{\"endlinecolor\":\"#2a3f5f\",\"gridcolor\":\"#C8D4E3\",\"linecolor\":\"#C8D4E3\",\"minorgridcolor\":\"#C8D4E3\",\"startlinecolor\":\"#2a3f5f\"},\"baxis\":{\"endlinecolor\":\"#2a3f5f\",\"gridcolor\":\"#C8D4E3\",\"linecolor\":\"#C8D4E3\",\"minorgridcolor\":\"#C8D4E3\",\"startlinecolor\":\"#2a3f5f\"},\"type\":\"carpet\"}],\"choropleth\":[{\"colorbar\":{\"outlinewidth\":0,\"ticks\":\"\"},\"type\":\"choropleth\"}],\"contourcarpet\":[{\"colorbar\":{\"outlinewidth\":0,\"ticks\":\"\"},\"type\":\"contourcarpet\"}],\"contour\":[{\"colorbar\":{\"outlinewidth\":0,\"ticks\":\"\"},\"colorscale\":[[0.0,\"#0d0887\"],[0.1111111111111111,\"#46039f\"],[0.2222222222222222,\"#7201a8\"],[0.3333333333333333,\"#9c179e\"],[0.4444444444444444,\"#bd3786\"],[0.5555555555555556,\"#d8576b\"],[0.6666666666666666,\"#ed7953\"],[0.7777777777777778,\"#fb9f3a\"],[0.8888888888888888,\"#fdca26\"],[1.0,\"#f0f921\"]],\"type\":\"contour\"}],\"heatmapgl\":[{\"colorbar\":{\"outlinewidth\":0,\"ticks\":\"\"},\"colorscale\":[[0.0,\"#0d0887\"],[0.1111111111111111,\"#46039f\"],[0.2222222222222222,\"#7201a8\"],[0.3333333333333333,\"#9c179e\"],[0.4444444444444444,\"#bd3786\"],[0.5555555555555556,\"#d8576b\"],[0.6666666666666666,\"#ed7953\"],[0.7777777777777778,\"#fb9f3a\"],[0.8888888888888888,\"#fdca26\"],[1.0,\"#f0f921\"]],\"type\":\"heatmapgl\"}],\"heatmap\":[{\"colorbar\":{\"outlinewidth\":0,\"ticks\":\"\"},\"colorscale\":[[0.0,\"#0d0887\"],[0.1111111111111111,\"#46039f\"],[0.2222222222222222,\"#7201a8\"],[0.3333333333333333,\"#9c179e\"],[0.4444444444444444,\"#bd3786\"],[0.5555555555555556,\"#d8576b\"],[0.6666666666666666,\"#ed7953\"],[0.7777777777777778,\"#fb9f3a\"],[0.8888888888888888,\"#fdca26\"],[1.0,\"#f0f921\"]],\"type\":\"heatmap\"}],\"histogram2dcontour\":[{\"colorbar\":{\"outlinewidth\":0,\"ticks\":\"\"},\"colorscale\":[[0.0,\"#0d0887\"],[0.1111111111111111,\"#46039f\"],[0.2222222222222222,\"#7201a8\"],[0.3333333333333333,\"#9c179e\"],[0.4444444444444444,\"#bd3786\"],[0.5555555555555556,\"#d8576b\"],[0.6666666666666666,\"#ed7953\"],[0.7777777777777778,\"#fb9f3a\"],[0.8888888888888888,\"#fdca26\"],[1.0,\"#f0f921\"]],\"type\":\"histogram2dcontour\"}],\"histogram2d\":[{\"colorbar\":{\"outlinewidth\":0,\"ticks\":\"\"},\"colorscale\":[[0.0,\"#0d0887\"],[0.1111111111111111,\"#46039f\"],[0.2222222222222222,\"#7201a8\"],[0.3333333333333333,\"#9c179e\"],[0.4444444444444444,\"#bd3786\"],[0.5555555555555556,\"#d8576b\"],[0.6666666666666666,\"#ed7953\"],[0.7777777777777778,\"#fb9f3a\"],[0.8888888888888888,\"#fdca26\"],[1.0,\"#f0f921\"]],\"type\":\"histogram2d\"}],\"histogram\":[{\"marker\":{\"pattern\":{\"fillmode\":\"overlay\",\"size\":10,\"solidity\":0.2}},\"type\":\"histogram\"}],\"mesh3d\":[{\"colorbar\":{\"outlinewidth\":0,\"ticks\":\"\"},\"type\":\"mesh3d\"}],\"parcoords\":[{\"line\":{\"colorbar\":{\"outlinewidth\":0,\"ticks\":\"\"}},\"type\":\"parcoords\"}],\"pie\":[{\"automargin\":true,\"type\":\"pie\"}],\"scatter3d\":[{\"line\":{\"colorbar\":{\"outlinewidth\":0,\"ticks\":\"\"}},\"marker\":{\"colorbar\":{\"outlinewidth\":0,\"ticks\":\"\"}},\"type\":\"scatter3d\"}],\"scattercarpet\":[{\"marker\":{\"colorbar\":{\"outlinewidth\":0,\"ticks\":\"\"}},\"type\":\"scattercarpet\"}],\"scattergeo\":[{\"marker\":{\"colorbar\":{\"outlinewidth\":0,\"ticks\":\"\"}},\"type\":\"scattergeo\"}],\"scattergl\":[{\"marker\":{\"colorbar\":{\"outlinewidth\":0,\"ticks\":\"\"}},\"type\":\"scattergl\"}],\"scattermapbox\":[{\"marker\":{\"colorbar\":{\"outlinewidth\":0,\"ticks\":\"\"}},\"type\":\"scattermapbox\"}],\"scatterpolargl\":[{\"marker\":{\"colorbar\":{\"outlinewidth\":0,\"ticks\":\"\"}},\"type\":\"scatterpolargl\"}],\"scatterpolar\":[{\"marker\":{\"colorbar\":{\"outlinewidth\":0,\"ticks\":\"\"}},\"type\":\"scatterpolar\"}],\"scatter\":[{\"fillpattern\":{\"fillmode\":\"overlay\",\"size\":10,\"solidity\":0.2},\"type\":\"scatter\"}],\"scatterternary\":[{\"marker\":{\"colorbar\":{\"outlinewidth\":0,\"ticks\":\"\"}},\"type\":\"scatterternary\"}],\"surface\":[{\"colorbar\":{\"outlinewidth\":0,\"ticks\":\"\"},\"colorscale\":[[0.0,\"#0d0887\"],[0.1111111111111111,\"#46039f\"],[0.2222222222222222,\"#7201a8\"],[0.3333333333333333,\"#9c179e\"],[0.4444444444444444,\"#bd3786\"],[0.5555555555555556,\"#d8576b\"],[0.6666666666666666,\"#ed7953\"],[0.7777777777777778,\"#fb9f3a\"],[0.8888888888888888,\"#fdca26\"],[1.0,\"#f0f921\"]],\"type\":\"surface\"}],\"table\":[{\"cells\":{\"fill\":{\"color\":\"#EBF0F8\"},\"line\":{\"color\":\"white\"}},\"header\":{\"fill\":{\"color\":\"#C8D4E3\"},\"line\":{\"color\":\"white\"}},\"type\":\"table\"}]},\"layout\":{\"annotationdefaults\":{\"arrowcolor\":\"#2a3f5f\",\"arrowhead\":0,\"arrowwidth\":1},\"autotypenumbers\":\"strict\",\"coloraxis\":{\"colorbar\":{\"outlinewidth\":0,\"ticks\":\"\"}},\"colorscale\":{\"diverging\":[[0,\"#8e0152\"],[0.1,\"#c51b7d\"],[0.2,\"#de77ae\"],[0.3,\"#f1b6da\"],[0.4,\"#fde0ef\"],[0.5,\"#f7f7f7\"],[0.6,\"#e6f5d0\"],[0.7,\"#b8e186\"],[0.8,\"#7fbc41\"],[0.9,\"#4d9221\"],[1,\"#276419\"]],\"sequential\":[[0.0,\"#0d0887\"],[0.1111111111111111,\"#46039f\"],[0.2222222222222222,\"#7201a8\"],[0.3333333333333333,\"#9c179e\"],[0.4444444444444444,\"#bd3786\"],[0.5555555555555556,\"#d8576b\"],[0.6666666666666666,\"#ed7953\"],[0.7777777777777778,\"#fb9f3a\"],[0.8888888888888888,\"#fdca26\"],[1.0,\"#f0f921\"]],\"sequentialminus\":[[0.0,\"#0d0887\"],[0.1111111111111111,\"#46039f\"],[0.2222222222222222,\"#7201a8\"],[0.3333333333333333,\"#9c179e\"],[0.4444444444444444,\"#bd3786\"],[0.5555555555555556,\"#d8576b\"],[0.6666666666666666,\"#ed7953\"],[0.7777777777777778,\"#fb9f3a\"],[0.8888888888888888,\"#fdca26\"],[1.0,\"#f0f921\"]]},\"colorway\":[\"#636efa\",\"#EF553B\",\"#00cc96\",\"#ab63fa\",\"#FFA15A\",\"#19d3f3\",\"#FF6692\",\"#B6E880\",\"#FF97FF\",\"#FECB52\"],\"font\":{\"color\":\"#2a3f5f\"},\"geo\":{\"bgcolor\":\"white\",\"lakecolor\":\"white\",\"landcolor\":\"white\",\"showlakes\":true,\"showland\":true,\"subunitcolor\":\"#C8D4E3\"},\"hoverlabel\":{\"align\":\"left\"},\"hovermode\":\"closest\",\"mapbox\":{\"style\":\"light\"},\"paper_bgcolor\":\"white\",\"plot_bgcolor\":\"white\",\"polar\":{\"angularaxis\":{\"gridcolor\":\"#EBF0F8\",\"linecolor\":\"#EBF0F8\",\"ticks\":\"\"},\"bgcolor\":\"white\",\"radialaxis\":{\"gridcolor\":\"#EBF0F8\",\"linecolor\":\"#EBF0F8\",\"ticks\":\"\"}},\"scene\":{\"xaxis\":{\"backgroundcolor\":\"white\",\"gridcolor\":\"#DFE8F3\",\"gridwidth\":2,\"linecolor\":\"#EBF0F8\",\"showbackground\":true,\"ticks\":\"\",\"zerolinecolor\":\"#EBF0F8\"},\"yaxis\":{\"backgroundcolor\":\"white\",\"gridcolor\":\"#DFE8F3\",\"gridwidth\":2,\"linecolor\":\"#EBF0F8\",\"showbackground\":true,\"ticks\":\"\",\"zerolinecolor\":\"#EBF0F8\"},\"zaxis\":{\"backgroundcolor\":\"white\",\"gridcolor\":\"#DFE8F3\",\"gridwidth\":2,\"linecolor\":\"#EBF0F8\",\"showbackground\":true,\"ticks\":\"\",\"zerolinecolor\":\"#EBF0F8\"}},\"shapedefaults\":{\"line\":{\"color\":\"#2a3f5f\"}},\"ternary\":{\"aaxis\":{\"gridcolor\":\"#DFE8F3\",\"linecolor\":\"#A2B1C6\",\"ticks\":\"\"},\"baxis\":{\"gridcolor\":\"#DFE8F3\",\"linecolor\":\"#A2B1C6\",\"ticks\":\"\"},\"bgcolor\":\"white\",\"caxis\":{\"gridcolor\":\"#DFE8F3\",\"linecolor\":\"#A2B1C6\",\"ticks\":\"\"}},\"title\":{\"x\":0.05},\"xaxis\":{\"automargin\":true,\"gridcolor\":\"#EBF0F8\",\"linecolor\":\"#EBF0F8\",\"ticks\":\"\",\"title\":{\"standoff\":15},\"zerolinecolor\":\"#EBF0F8\",\"zerolinewidth\":2},\"yaxis\":{\"automargin\":true,\"gridcolor\":\"#EBF0F8\",\"linecolor\":\"#EBF0F8\",\"ticks\":\"\",\"title\":{\"standoff\":15},\"zerolinecolor\":\"#EBF0F8\",\"zerolinewidth\":2}}},\"annotations\":[{\"font\":{\"size\":16},\"showarrow\":false,\"text\":\"Equal Weight\",\"x\":0.225,\"xanchor\":\"center\",\"xref\":\"paper\",\"y\":1.0,\"yanchor\":\"bottom\",\"yref\":\"paper\"},{\"font\":{\"size\":16},\"showarrow\":false,\"text\":\"Mean Variance\",\"x\":0.775,\"xanchor\":\"center\",\"xref\":\"paper\",\"y\":1.0,\"yanchor\":\"bottom\",\"yref\":\"paper\"},{\"font\":{\"size\":16},\"showarrow\":false,\"text\":\"Risk Parity\",\"x\":0.225,\"xanchor\":\"center\",\"xref\":\"paper\",\"y\":0.375,\"yanchor\":\"bottom\",\"yref\":\"paper\"},{\"font\":{\"size\":16},\"showarrow\":false,\"text\":\"Minimum Variance\",\"x\":0.775,\"xanchor\":\"center\",\"xref\":\"paper\",\"y\":0.375,\"yanchor\":\"bottom\",\"yref\":\"paper\"}],\"title\":{\"text\":\"Risk Contribution by Asset\"},\"height\":800},                        {\"responsive\": true}                    ).then(function(){\n",
       "                            \n",
       "var gd = document.getElementById('871d8735-cb47-4237-a529-3a1c9923392b');\n",
       "var x = new MutationObserver(function (mutations, observer) {{\n",
       "        var display = window.getComputedStyle(gd).display;\n",
       "        if (!display || display === 'none') {{\n",
       "            console.log([gd, 'removed!']);\n",
       "            Plotly.purge(gd);\n",
       "            observer.disconnect();\n",
       "        }}\n",
       "}});\n",
       "\n",
       "// Listen for the removal of the full notebook cells\n",
       "var notebookContainer = gd.closest('#notebook-container');\n",
       "if (notebookContainer) {{\n",
       "    x.observe(notebookContainer, {childList: true});\n",
       "}}\n",
       "\n",
       "// Listen for the clearing of the current output cell\n",
       "var outputEl = gd.closest('.output');\n",
       "if (outputEl) {{\n",
       "    x.observe(outputEl, {childList: true});\n",
       "}}\n",
       "\n",
       "                        })                };                });            </script>        </div>"
      ]
     },
     "metadata": {},
     "output_type": "display_data"
    },
    {
     "name": "stdout",
     "output_type": "stream",
     "text": [
      "💾 Saved risk breakdown to: ../data/figures/risk_contribution_breakdown.html\n",
      "\n",
      "✅ Risk management analysis completed!\n",
      "\n",
      "🎯 Key Insights:\n",
      "   • Compared multiple optimization methods (Mean-Variance, Risk Parity, Min Variance)\n",
      "   • Analyzed risk contributions and factor exposures\n",
      "   • Performed stress testing under various scenarios\n",
      "   • Evaluated portfolio performance during historical market events\n",
      "   • Assessed concentration risk and diversification benefits\n",
      "\n",
      "💡 Best Practices:\n",
      "   • Use multiple optimization techniques for robust portfolios\n",
      "   • Monitor factor exposures and risk contributions regularly\n",
      "   • Stress test portfolios under extreme scenarios\n",
      "   • Consider dynamic hedging for tail risk protection\n",
      "   • Balance expected returns with risk management objectives\n"
     ]
    }
   ],
   "source": [
    "print(\"📊 Creating risk management visualizations...\")\n",
    "\n",
    "# Create figures directory\n",
    "figures_dir = Path(\"../data/figures\")\n",
    "figures_dir.mkdir(parents=True, exist_ok=True)\n",
    "\n",
    "import plotly.graph_objects as go\n",
    "from plotly.subplots import make_subplots\n",
    "\n",
    "# 1. Portfolio comparison chart\n",
    "fig1 = go.Figure()\n",
    "\n",
    "# Calculate and plot efficient frontier\n",
    "if len(valid_symbols) >= 5:\n",
    "    vol_range = np.linspace(0.10, 0.40, 20)\n",
    "    efficient_returns = []\n",
    "    efficient_vols = []\n",
    "    \n",
    "    for target_vol in vol_range:\n",
    "        try:\n",
    "            # Simple mean-variance optimization for efficient frontier\n",
    "            expected_returns = hist_returns_clean.mean() * 252\n",
    "            cov_matrix_annual = hist_returns_clean.cov() * 252\n",
    "            \n",
    "            import cvxpy as cp\n",
    "            w = cp.Variable(len(valid_symbols))\n",
    "            \n",
    "            # Maximize return for given volatility\n",
    "            portfolio_return = w.T @ expected_returns\n",
    "            portfolio_variance = cp.quad_form(w, cov_matrix_annual)\n",
    "            \n",
    "            constraints = [\n",
    "                cp.sum(w) == 1,\n",
    "                w >= 0,\n",
    "                cp.sqrt(portfolio_variance) <= target_vol\n",
    "            ]\n",
    "            \n",
    "            problem = cp.Problem(cp.Maximize(portfolio_return), constraints)\n",
    "            problem.solve()\n",
    "            \n",
    "            if w.value is not None:\n",
    "                efficient_returns.append(portfolio_return.value)\n",
    "                efficient_vols.append(target_vol)\n",
    "        \n",
    "        except:\n",
    "            continue\n",
    "    \n",
    "    # Plot efficient frontier\n",
    "    if len(efficient_returns) > 5:\n",
    "        fig1.add_trace(go.Scatter(\n",
    "            x=efficient_vols,\n",
    "            y=efficient_returns,\n",
    "            mode='lines',\n",
    "            name='Efficient Frontier',\n",
    "            line=dict(color='gray', dash='dash')\n",
    "        ))\n",
    "\n",
    "# Plot portfolio points\n",
    "colors = ['blue', 'red', 'green', 'orange']\n",
    "for i, (name, weights) in enumerate(optimization_results.items()):\n",
    "    if len(weights) > 0 and not weights.isna().all():\n",
    "        aligned_weights = weights.reindex(hist_returns_clean.columns).fillna(0)\n",
    "        \n",
    "        if aligned_weights.sum() > 0.5:  # Valid portfolio\n",
    "            portfolio_return = (aligned_weights * hist_returns_clean.mean() * 252).sum()\n",
    "            portfolio_vol = np.sqrt(aligned_weights.T @ cov_matrix @ aligned_weights)\n",
    "            \n",
    "            fig1.add_trace(go.Scatter(\n",
    "                x=[portfolio_vol],\n",
    "                y=[portfolio_return],\n",
    "                mode='markers',\n",
    "                name=name,\n",
    "                marker=dict(size=12, color=colors[i % len(colors)])\n",
    "            ))\n",
    "\n",
    "fig1.update_layout(\n",
    "    title=\"Portfolio Optimization Comparison\",\n",
    "    xaxis_title=\"Volatility (Annual)\",\n",
    "    yaxis_title=\"Expected Return (Annual)\",\n",
    "    template=\"plotly_white\",\n",
    "    width=800,\n",
    "    height=600\n",
    ")\n",
    "\n",
    "fig1.show()\n",
    "fig1.write_html(str(figures_dir / \"portfolio_optimization_comparison.html\"))\n",
    "print(f\"💾 Saved portfolio comparison to: {figures_dir / 'portfolio_optimization_comparison.html'}\")\n",
    "\n",
    "# 2. Risk contribution breakdown\n",
    "if len(risk_analysis) > 0:\n",
    "    fig2 = make_subplots(\n",
    "        rows=2, cols=2,\n",
    "        subplot_titles=list(risk_analysis.keys()),\n",
    "        specs=[[{\"type\": \"pie\"}, {\"type\": \"pie\"}],\n",
    "               [{\"type\": \"pie\"}, {\"type\": \"pie\"}]]\n",
    "    )\n",
    "    \n",
    "    positions = [(1, 1), (1, 2), (2, 1), (2, 2)]\n",
    "    \n",
    "    for i, (name, analysis) in enumerate(list(risk_analysis.items())[:4]):\n",
    "        risk_contrib = analysis['risk_contrib']\n",
    "        \n",
    "        # Top 10 risk contributors\n",
    "        top_contrib = risk_contrib.nlargest(10)\n",
    "        other_contrib = risk_contrib[~risk_contrib.index.isin(top_contrib.index)].sum()\n",
    "        \n",
    "        labels = list(top_contrib.index) + ['Others']\n",
    "        values = list(top_contrib.values) + [other_contrib]\n",
    "        \n",
    "        fig2.add_trace(go.Pie(\n",
    "            labels=labels,\n",
    "            values=values,\n",
    "            name=name\n",
    "        ), row=positions[i][0], col=positions[i][1])\n",
    "    \n",
    "    fig2.update_layout(\n",
    "        title=\"Risk Contribution by Asset\",\n",
    "        template=\"plotly_white\",\n",
    "        height=800\n",
    "    )\n",
    "    \n",
    "    fig2.show()\n",
    "    fig2.write_html(str(figures_dir / \"risk_contribution_breakdown.html\"))\n",
    "    print(f\"💾 Saved risk breakdown to: {figures_dir / 'risk_contribution_breakdown.html'}\")\n",
    "\n",
    "print(\"\\n✅ Risk management analysis completed!\")\n",
    "print(\"\\n🎯 Key Insights:\")\n",
    "print(\"   • Compared multiple optimization methods (Mean-Variance, Risk Parity, Min Variance)\")\n",
    "print(\"   • Analyzed risk contributions and factor exposures\")\n",
    "print(\"   • Performed stress testing under various scenarios\")\n",
    "print(\"   • Evaluated portfolio performance during historical market events\")\n",
    "print(\"   • Assessed concentration risk and diversification benefits\")\n",
    "print(\"\\n💡 Best Practices:\")\n",
    "print(\"   • Use multiple optimization techniques for robust portfolios\")\n",
    "print(\"   • Monitor factor exposures and risk contributions regularly\")\n",
    "print(\"   • Stress test portfolios under extreme scenarios\")\n",
    "print(\"   • Consider dynamic hedging for tail risk protection\")\n",
    "print(\"   • Balance expected returns with risk management objectives\")"
   ]
  },
  {
   "cell_type": "markdown",
   "id": "1436b8d4",
   "metadata": {},
   "source": [
    "## Summary\n",
    "\n",
    "This notebook demonstrated advanced risk management and portfolio optimization techniques:\n",
    "\n",
    "### Portfolio Optimization Methods\n",
    "- **Equal Weight**: Simple diversification baseline\n",
    "- **Mean-Variance**: Maximizes risk-adjusted returns\n",
    "- **Risk Parity**: Equalizes risk contributions\n",
    "- **Minimum Variance**: Minimizes portfolio volatility\n",
    "\n",
    "### Risk Management Framework\n",
    "- **Factor Risk Model**: Market, size, momentum, volatility factors\n",
    "- **Risk Attribution**: Component and marginal risk contributions\n",
    "- **Stress Testing**: Scenario analysis and historical simulations\n",
    "- **Dynamic Hedging**: Correlation-based hedge ratios\n",
    "\n",
    "### Key Metrics\n",
    "- Expected return and volatility\n",
    "- Sharpe ratio and Calmar ratio\n",
    "- Maximum drawdown and VaR\n",
    "- Concentration risk (Herfindahl index)\n",
    "- Factor exposures and sector allocation\n",
    "\n",
    "### Applications\n",
    "- Institutional portfolio management\n",
    "- Risk budgeting and allocation\n",
    "- Regulatory capital requirements\n",
    "- Performance attribution analysis\n",
    "- Tail risk hedging strategies"
   ]
  }
 ],
 "metadata": {
  "kernelspec": {
   "display_name": ".venv",
   "language": "python",
   "name": "python3"
  },
  "language_info": {
   "codemirror_mode": {
    "name": "ipython",
    "version": 3
   },
   "file_extension": ".py",
   "mimetype": "text/x-python",
   "name": "python",
   "nbconvert_exporter": "python",
   "pygments_lexer": "ipython3",
   "version": "3.11.11"
  }
 },
 "nbformat": 4,
 "nbformat_minor": 5
}
